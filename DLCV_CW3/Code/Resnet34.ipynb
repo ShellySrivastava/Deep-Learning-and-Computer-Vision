{
  "nbformat": 4,
  "nbformat_minor": 0,
  "metadata": {
    "colab": {
      "name": "Resnet34.ipynb",
      "provenance": [],
      "collapsed_sections": []
    },
    "kernelspec": {
      "name": "python3",
      "display_name": "Python 3"
    }
  },
  "cells": [
    {
      "cell_type": "markdown",
      "metadata": {
        "id": "vBUFvBvQ82NW",
        "colab_type": "text"
      },
      "source": [
        "Necessary imports"
      ]
    },
    {
      "cell_type": "code",
      "metadata": {
        "id": "qdIOAlwfuUdc",
        "colab_type": "code",
        "colab": {
          "base_uri": "https://localhost:8080/",
          "height": 34
        },
        "outputId": "ac64ffbf-be21-4a97-a887-799c9cebab00"
      },
      "source": [
        "import tensorflow as tf\n",
        "import tensorflow_datasets as tfds\n",
        "from tensorflow.keras.utils import to_categorical\n",
        "import matplotlib.pyplot as plt\n",
        "import numpy as np\n",
        "from tensorflow.keras.preprocessing.image import img_to_array, array_to_img, ImageDataGenerator\n",
        "from tensorflow.keras.callbacks import EarlyStopping, ReduceLROnPlateau\n",
        "from keras.regularizers import l2"
      ],
      "execution_count": 1,
      "outputs": [
        {
          "output_type": "stream",
          "text": [
            "Using TensorFlow backend.\n"
          ],
          "name": "stderr"
        }
      ]
    },
    {
      "cell_type": "code",
      "metadata": {
        "id": "C7jC1C3gAv5W",
        "colab_type": "code",
        "colab": {}
      },
      "source": [
        "from tensorflow.keras.layers import Conv2D, MaxPooling2D, Flatten, Dense, Input, BatchNormalization, Add, Activation, AveragePooling2D, Dropout, LeakyReLU\n",
        "from tensorflow.keras.models import Sequential, Model\n",
        "from tensorflow.keras.optimizers import Adam, SGD\n",
        "from tensorflow.keras.losses import categorical_crossentropy"
      ],
      "execution_count": 0,
      "outputs": []
    },
    {
      "cell_type": "markdown",
      "metadata": {
        "id": "awepv6RQBYvV",
        "colab_type": "text"
      },
      "source": [
        "Method to load datasets based on their name. This method can load one of the three datasets namely, MNIST, Fashion_MNIST and Cifar-10."
      ]
    },
    {
      "cell_type": "code",
      "metadata": {
        "id": "WbMRurIC8yIy",
        "colab_type": "code",
        "colab": {}
      },
      "source": [
        "def load_dataset(dataset):\n",
        "  if dataset == 'mnist':\n",
        "    return tf.keras.datasets.mnist.load_data()\n",
        "  elif dataset == 'fashion_mnist':\n",
        "    return tf.keras.datasets.fashion_mnist.load_data()\n",
        "  elif dataset == 'cifar-10':\n",
        "    return tf.keras.datasets.cifar10.load_data()\n",
        "  else:\n",
        "    return -1"
      ],
      "execution_count": 0,
      "outputs": []
    },
    {
      "cell_type": "markdown",
      "metadata": {
        "id": "X_jJaWdyBeMi",
        "colab_type": "text"
      },
      "source": [
        "This method preprocesses the dataset. It increases the size of the image to 64x64 and normalises the dataset by mean subtraction. The labels are converted to one hot representation. "
      ]
    },
    {
      "cell_type": "code",
      "metadata": {
        "id": "y_dg1YKsv34f",
        "colab_type": "code",
        "colab": {}
      },
      "source": [
        "def preprocess_dataset(x_train, y_train, x_test, y_test):\n",
        "  # expand the dimension (add the channel axis to MNIST and Fashion_MNIST)\n",
        "  if len(x_train.shape) == 3 :\n",
        "    x_train = tf.expand_dims(x_train, -1)\n",
        "    x_test = tf.expand_dims(x_test, -1)\n",
        "\n",
        "  # resize the image\n",
        "  x_train = np.asarray([img_to_array(array_to_img(im, scale=False).resize((64,64))) for im in x_train])\n",
        "  x_test = np.asarray([img_to_array(array_to_img(im, scale=False).resize((64,64))) for im in x_test])\n",
        "\n",
        "  # Convert the labels to their one-hot representation\n",
        "  y_train = to_categorical(y_train)\n",
        "  y_test = to_categorical(y_test)\n",
        "\n",
        "  # Normalise the dataset by mean subtraction\n",
        "  x_train = x_train.astype('float32')\n",
        "  x_test = x_test.astype('float32')\n",
        "  x_train_mean = np.mean(x_train, axis=0)\n",
        "  x_train -= x_train_mean\n",
        "  x_test -= x_train_mean\n",
        "\n",
        "  return x_train, y_train, x_test, y_test"
      ],
      "execution_count": 0,
      "outputs": []
    },
    {
      "cell_type": "markdown",
      "metadata": {
        "id": "ww4UDr_8B4yL",
        "colab_type": "text"
      },
      "source": [
        "This method is used to visualize the first 4 fail cases and success cases  of the prediction."
      ]
    },
    {
      "cell_type": "code",
      "metadata": {
        "id": "mOh0jHyqi7lg",
        "colab_type": "code",
        "colab": {}
      },
      "source": [
        "def visualize(pred_labels, test_labels, test_images, dataset_name):\n",
        "  # list to store the index of the success cases and fail cases\n",
        "  success_cases = []\n",
        "  fail_cases = []\n",
        "  for i in range(len(test_labels)):\n",
        "    if test_labels[i].argmax() == pred_labels[i].argmax() and len(success_cases)<5:\n",
        "      success_cases.append(i)\n",
        "    elif test_labels[i].argmax() != pred_labels[i].argmax() and len(fail_cases)<5:\n",
        "      fail_cases.append(i)\n",
        "    if len(success_cases) == 4 and len(fail_cases) == 4:\n",
        "      break\n",
        "  \n",
        "  # cmap = gray from MNIST and fashion_mnist\n",
        "  if len(test_images[0].shape) == 2:\n",
        "    cmap = 'gray'\n",
        "  else:\n",
        "    cmap = None\n",
        "  \n",
        "  # plotting the success cases\n",
        "  fig, ax = plt.subplots(nrows=2, ncols=2)\n",
        "  for row in ax:\n",
        "    for col in row:\n",
        "        col.imshow(test_images[success_cases.pop(0)], interpolation='nearest', cmap=cmap)\n",
        "  fig.suptitle('Success Cases of resnet34 on ' + dataset_name)\n",
        "\n",
        "  # plotting the fail cases\n",
        "  plt.show()\n",
        "  fig, ax = plt.subplots(nrows=2, ncols=2)\n",
        "  for row in ax:\n",
        "    for col in row:\n",
        "        col.imshow(test_images[fail_cases.pop(0)], interpolation='nearest', cmap=cmap)\n",
        "  fig.suptitle('Fail Cases of resnet34 on ' + dataset_name)\n",
        "  plt.show()"
      ],
      "execution_count": 0,
      "outputs": []
    },
    {
      "cell_type": "markdown",
      "metadata": {
        "id": "XphdQzWqCKWy",
        "colab_type": "text"
      },
      "source": [
        "This method return the resnet34 model. It is based on the architecture proposed in the original paper with some improvements."
      ]
    },
    {
      "cell_type": "code",
      "metadata": {
        "id": "sDfcCpOe0U4r",
        "colab_type": "code",
        "colab": {}
      },
      "source": [
        "def identity_block(x, f, dropout_rate):\n",
        "  x_skip = x\n",
        "  x = Conv2D(filters=f,kernel_size=(3,3),strides=(1, 1),padding=\"same\", kernel_initializer=tf.initializers.GlorotUniform(),kernel_regularizer=l2(1e-4))(x)\n",
        "  x = Dropout(dropout_rate)(x)\n",
        "  x = BatchNormalization(axis=3)(x)\n",
        "  # x = Activation('relu')(x)\n",
        "  x = LeakyReLU()(x)\n",
        "  x = Conv2D(filters=f,kernel_size=(3,3),strides=(1, 1),padding=\"same\", kernel_initializer=tf.initializers.GlorotUniform(),kernel_regularizer=l2(1e-4))(x)\n",
        "  x = Dropout(dropout_rate)(x)\n",
        "  x = BatchNormalization(axis=3)(x)\n",
        "  x = Add()([x, x_skip])\n",
        "  # x = Activation('relu')(x)\n",
        "  x = LeakyReLU()(x)\n",
        "  return x\n",
        "\n",
        "def conv_block(x, f, dropout_rate):\n",
        "  x_skip = x\n",
        "  x = Conv2D(filters=f,kernel_size=(3,3),strides=(2, 2),padding=\"same\", kernel_initializer=tf.initializers.GlorotUniform(),kernel_regularizer=l2(1e-4))(x)\n",
        "  x = Dropout(dropout_rate)(x)\n",
        "  x = BatchNormalization(axis=3)(x)\n",
        "  # x = Activation('relu')(x)\n",
        "  x = LeakyReLU()(x)\n",
        "  x = Conv2D(filters=f,kernel_size=(3,3),strides=(1, 1),padding=\"same\", kernel_initializer=tf.initializers.GlorotUniform(),kernel_regularizer=l2(1e-4))(x)\n",
        "  x = Dropout(dropout_rate)(x)\n",
        "  x = BatchNormalization(axis=3)(x)\n",
        "  x_skip = Conv2D(filters=f,kernel_size=(1,1),strides=(2, 2),padding=\"same\", kernel_initializer=tf.initializers.GlorotUniform(),kernel_regularizer=l2(1e-4))(x_skip)\n",
        "  x = Dropout(dropout_rate)(x)\n",
        "  x_skip = BatchNormalization(axis=3)(x_skip)\n",
        "  x = Add()([x, x_skip])\n",
        "  # x = Activation('relu')(x)\n",
        "  x = LeakyReLU()(x)\n",
        "  return x\n",
        "\n",
        "def model_resnet34(image_shape, num_category):\n",
        "  filters = [64, 128, 256, 512]\n",
        "  blocks = [3, 4, 6, 3]\n",
        "  dropout_rate = 0.2\n",
        "  inputs = Input(shape=image_shape)\n",
        "  x = Conv2D(filters=64,kernel_size=(7,7),strides=(2, 2),padding=\"same\",kernel_initializer=tf.initializers.GlorotUniform(),kernel_regularizer=l2(1e-4))(inputs)\n",
        "  x = Dropout(dropout_rate)(x)\n",
        "  x = BatchNormalization(axis=3)(x)\n",
        "  # x = Activation('relu')(x)\n",
        "  x = LeakyReLU()(x)\n",
        "  x = MaxPooling2D((3, 3), strides=(2, 2), padding=\"same\")(x)\n",
        "\n",
        "  first_block = True\n",
        "  for b in blocks:\n",
        "    f = filters.pop(0)\n",
        "    x = identity_block(x, f, dropout_rate) if first_block == True else conv_block(x, f, dropout_rate)\n",
        "    first_block = False\n",
        "    for _ in range(b-1):\n",
        "      x = identity_block(x, f, dropout_rate)\n",
        "\n",
        "  x = AveragePooling2D(pool_size=(2,2))(x)\n",
        "  x= Flatten()(x)\n",
        "  outputs = Dense(units=num_category, activation='softmax', kernel_initializer=tf.initializers.GlorotUniform())(x)\n",
        "  model = Model(inputs=inputs, outputs=outputs)\n",
        "  \n",
        "  return model"
      ],
      "execution_count": 0,
      "outputs": []
    },
    {
      "cell_type": "markdown",
      "metadata": {
        "id": "_rCAqTptCebe",
        "colab_type": "text"
      },
      "source": [
        "Load the dataset from the following options: 'mnist', 'fashion_mnist' and 'cifar-10'"
      ]
    },
    {
      "cell_type": "code",
      "metadata": {
        "id": "5Lj178oxRuyU",
        "colab_type": "code",
        "outputId": "66119dfc-f892-416f-c177-0b0c3da390c7",
        "colab": {
          "base_uri": "https://localhost:8080/",
          "height": 51
        }
      },
      "source": [
        "dataset_name = 'mnist'\n",
        "(train_img, train_lbl), (test_img, test_lbl) = load_dataset(dataset_name)"
      ],
      "execution_count": 7,
      "outputs": [
        {
          "output_type": "stream",
          "text": [
            "Downloading data from https://storage.googleapis.com/tensorflow/tf-keras-datasets/mnist.npz\n",
            "11493376/11490434 [==============================] - 0s 0us/step\n"
          ],
          "name": "stdout"
        }
      ]
    },
    {
      "cell_type": "markdown",
      "metadata": {
        "id": "ipQJFid4DnfI",
        "colab_type": "text"
      },
      "source": [
        "Preprocess the dataset and get the train_images, train_labels, test_images and test_labels. "
      ]
    },
    {
      "cell_type": "code",
      "metadata": {
        "id": "meSCyIRUCS67",
        "colab_type": "code",
        "colab": {}
      },
      "source": [
        "train_images, train_labels, test_images, test_labels = preprocess_dataset(train_img, train_lbl, test_img, test_lbl)"
      ],
      "execution_count": 0,
      "outputs": []
    },
    {
      "cell_type": "markdown",
      "metadata": {
        "id": "78SWRDm-DzYa",
        "colab_type": "text"
      },
      "source": [
        "Augment data for training if augment_data is set to True. "
      ]
    },
    {
      "cell_type": "code",
      "metadata": {
        "id": "YwsVH3IAfo8I",
        "colab_type": "code",
        "colab": {}
      },
      "source": [
        "augment_data = True\n",
        "batch_size = 128\n",
        "validation_percent = 0.1\n",
        "epochs = 100\n",
        "if augment_data:\n",
        "  datagen = ImageDataGenerator(\n",
        "      width_shift_range=0.1,\n",
        "      height_shift_range=0.1,\n",
        "      horizontal_flip=True,\n",
        "      rotation_range=0,\n",
        "      fill_mode='nearest',\n",
        "      validation_split=validation_percent\n",
        "  )\n",
        "  train_iterator = datagen.flow(train_images, train_labels, batch_size=batch_size, subset='training')\n",
        "  validation_iterator = datagen.flow(train_images, train_labels, batch_size=batch_size, subset='validation')"
      ],
      "execution_count": 0,
      "outputs": []
    },
    {
      "cell_type": "markdown",
      "metadata": {
        "id": "MJ2XHh6xEHFz",
        "colab_type": "text"
      },
      "source": [
        "Create the model. Using adam optimiser (instead of the original SGD optimiser) with categorical_crossentropy as loss function for multiclass classification."
      ]
    },
    {
      "cell_type": "code",
      "metadata": {
        "id": "HlBz2QbjEvUB",
        "colab_type": "code",
        "outputId": "a5bc10f9-1d20-456a-b955-8f8cdc5709b2",
        "colab": {
          "base_uri": "https://localhost:8080/",
          "height": 1000
        }
      },
      "source": [
        "resnet34 = model_resnet34(image_shape = train_images[0].shape, num_category = len(train_labels[0]))\n",
        "resnet34.compile(optimizer='adam', loss=\"categorical_crossentropy\", metrics=['accuracy'])\n",
        "resnet34.summary()"
      ],
      "execution_count": 10,
      "outputs": [
        {
          "output_type": "stream",
          "text": [
            "Model: \"model\"\n",
            "__________________________________________________________________________________________________\n",
            "Layer (type)                    Output Shape         Param #     Connected to                     \n",
            "==================================================================================================\n",
            "input_1 (InputLayer)            [(None, 64, 64, 1)]  0                                            \n",
            "__________________________________________________________________________________________________\n",
            "conv2d (Conv2D)                 (None, 32, 32, 64)   3200        input_1[0][0]                    \n",
            "__________________________________________________________________________________________________\n",
            "dropout (Dropout)               (None, 32, 32, 64)   0           conv2d[0][0]                     \n",
            "__________________________________________________________________________________________________\n",
            "batch_normalization (BatchNorma (None, 32, 32, 64)   256         dropout[0][0]                    \n",
            "__________________________________________________________________________________________________\n",
            "leaky_re_lu (LeakyReLU)         (None, 32, 32, 64)   0           batch_normalization[0][0]        \n",
            "__________________________________________________________________________________________________\n",
            "max_pooling2d (MaxPooling2D)    (None, 16, 16, 64)   0           leaky_re_lu[0][0]                \n",
            "__________________________________________________________________________________________________\n",
            "conv2d_1 (Conv2D)               (None, 16, 16, 64)   36928       max_pooling2d[0][0]              \n",
            "__________________________________________________________________________________________________\n",
            "dropout_1 (Dropout)             (None, 16, 16, 64)   0           conv2d_1[0][0]                   \n",
            "__________________________________________________________________________________________________\n",
            "batch_normalization_1 (BatchNor (None, 16, 16, 64)   256         dropout_1[0][0]                  \n",
            "__________________________________________________________________________________________________\n",
            "leaky_re_lu_1 (LeakyReLU)       (None, 16, 16, 64)   0           batch_normalization_1[0][0]      \n",
            "__________________________________________________________________________________________________\n",
            "conv2d_2 (Conv2D)               (None, 16, 16, 64)   36928       leaky_re_lu_1[0][0]              \n",
            "__________________________________________________________________________________________________\n",
            "dropout_2 (Dropout)             (None, 16, 16, 64)   0           conv2d_2[0][0]                   \n",
            "__________________________________________________________________________________________________\n",
            "batch_normalization_2 (BatchNor (None, 16, 16, 64)   256         dropout_2[0][0]                  \n",
            "__________________________________________________________________________________________________\n",
            "add (Add)                       (None, 16, 16, 64)   0           batch_normalization_2[0][0]      \n",
            "                                                                 max_pooling2d[0][0]              \n",
            "__________________________________________________________________________________________________\n",
            "leaky_re_lu_2 (LeakyReLU)       (None, 16, 16, 64)   0           add[0][0]                        \n",
            "__________________________________________________________________________________________________\n",
            "conv2d_3 (Conv2D)               (None, 16, 16, 64)   36928       leaky_re_lu_2[0][0]              \n",
            "__________________________________________________________________________________________________\n",
            "dropout_3 (Dropout)             (None, 16, 16, 64)   0           conv2d_3[0][0]                   \n",
            "__________________________________________________________________________________________________\n",
            "batch_normalization_3 (BatchNor (None, 16, 16, 64)   256         dropout_3[0][0]                  \n",
            "__________________________________________________________________________________________________\n",
            "leaky_re_lu_3 (LeakyReLU)       (None, 16, 16, 64)   0           batch_normalization_3[0][0]      \n",
            "__________________________________________________________________________________________________\n",
            "conv2d_4 (Conv2D)               (None, 16, 16, 64)   36928       leaky_re_lu_3[0][0]              \n",
            "__________________________________________________________________________________________________\n",
            "dropout_4 (Dropout)             (None, 16, 16, 64)   0           conv2d_4[0][0]                   \n",
            "__________________________________________________________________________________________________\n",
            "batch_normalization_4 (BatchNor (None, 16, 16, 64)   256         dropout_4[0][0]                  \n",
            "__________________________________________________________________________________________________\n",
            "add_1 (Add)                     (None, 16, 16, 64)   0           batch_normalization_4[0][0]      \n",
            "                                                                 leaky_re_lu_2[0][0]              \n",
            "__________________________________________________________________________________________________\n",
            "leaky_re_lu_4 (LeakyReLU)       (None, 16, 16, 64)   0           add_1[0][0]                      \n",
            "__________________________________________________________________________________________________\n",
            "conv2d_5 (Conv2D)               (None, 16, 16, 64)   36928       leaky_re_lu_4[0][0]              \n",
            "__________________________________________________________________________________________________\n",
            "dropout_5 (Dropout)             (None, 16, 16, 64)   0           conv2d_5[0][0]                   \n",
            "__________________________________________________________________________________________________\n",
            "batch_normalization_5 (BatchNor (None, 16, 16, 64)   256         dropout_5[0][0]                  \n",
            "__________________________________________________________________________________________________\n",
            "leaky_re_lu_5 (LeakyReLU)       (None, 16, 16, 64)   0           batch_normalization_5[0][0]      \n",
            "__________________________________________________________________________________________________\n",
            "conv2d_6 (Conv2D)               (None, 16, 16, 64)   36928       leaky_re_lu_5[0][0]              \n",
            "__________________________________________________________________________________________________\n",
            "dropout_6 (Dropout)             (None, 16, 16, 64)   0           conv2d_6[0][0]                   \n",
            "__________________________________________________________________________________________________\n",
            "batch_normalization_6 (BatchNor (None, 16, 16, 64)   256         dropout_6[0][0]                  \n",
            "__________________________________________________________________________________________________\n",
            "add_2 (Add)                     (None, 16, 16, 64)   0           batch_normalization_6[0][0]      \n",
            "                                                                 leaky_re_lu_4[0][0]              \n",
            "__________________________________________________________________________________________________\n",
            "leaky_re_lu_6 (LeakyReLU)       (None, 16, 16, 64)   0           add_2[0][0]                      \n",
            "__________________________________________________________________________________________________\n",
            "conv2d_7 (Conv2D)               (None, 8, 8, 128)    73856       leaky_re_lu_6[0][0]              \n",
            "__________________________________________________________________________________________________\n",
            "dropout_7 (Dropout)             (None, 8, 8, 128)    0           conv2d_7[0][0]                   \n",
            "__________________________________________________________________________________________________\n",
            "batch_normalization_7 (BatchNor (None, 8, 8, 128)    512         dropout_7[0][0]                  \n",
            "__________________________________________________________________________________________________\n",
            "leaky_re_lu_7 (LeakyReLU)       (None, 8, 8, 128)    0           batch_normalization_7[0][0]      \n",
            "__________________________________________________________________________________________________\n",
            "conv2d_8 (Conv2D)               (None, 8, 8, 128)    147584      leaky_re_lu_7[0][0]              \n",
            "__________________________________________________________________________________________________\n",
            "dropout_8 (Dropout)             (None, 8, 8, 128)    0           conv2d_8[0][0]                   \n",
            "__________________________________________________________________________________________________\n",
            "batch_normalization_8 (BatchNor (None, 8, 8, 128)    512         dropout_8[0][0]                  \n",
            "__________________________________________________________________________________________________\n",
            "conv2d_9 (Conv2D)               (None, 8, 8, 128)    8320        leaky_re_lu_6[0][0]              \n",
            "__________________________________________________________________________________________________\n",
            "dropout_9 (Dropout)             (None, 8, 8, 128)    0           batch_normalization_8[0][0]      \n",
            "__________________________________________________________________________________________________\n",
            "batch_normalization_9 (BatchNor (None, 8, 8, 128)    512         conv2d_9[0][0]                   \n",
            "__________________________________________________________________________________________________\n",
            "add_3 (Add)                     (None, 8, 8, 128)    0           dropout_9[0][0]                  \n",
            "                                                                 batch_normalization_9[0][0]      \n",
            "__________________________________________________________________________________________________\n",
            "leaky_re_lu_8 (LeakyReLU)       (None, 8, 8, 128)    0           add_3[0][0]                      \n",
            "__________________________________________________________________________________________________\n",
            "conv2d_10 (Conv2D)              (None, 8, 8, 128)    147584      leaky_re_lu_8[0][0]              \n",
            "__________________________________________________________________________________________________\n",
            "dropout_10 (Dropout)            (None, 8, 8, 128)    0           conv2d_10[0][0]                  \n",
            "__________________________________________________________________________________________________\n",
            "batch_normalization_10 (BatchNo (None, 8, 8, 128)    512         dropout_10[0][0]                 \n",
            "__________________________________________________________________________________________________\n",
            "leaky_re_lu_9 (LeakyReLU)       (None, 8, 8, 128)    0           batch_normalization_10[0][0]     \n",
            "__________________________________________________________________________________________________\n",
            "conv2d_11 (Conv2D)              (None, 8, 8, 128)    147584      leaky_re_lu_9[0][0]              \n",
            "__________________________________________________________________________________________________\n",
            "dropout_11 (Dropout)            (None, 8, 8, 128)    0           conv2d_11[0][0]                  \n",
            "__________________________________________________________________________________________________\n",
            "batch_normalization_11 (BatchNo (None, 8, 8, 128)    512         dropout_11[0][0]                 \n",
            "__________________________________________________________________________________________________\n",
            "add_4 (Add)                     (None, 8, 8, 128)    0           batch_normalization_11[0][0]     \n",
            "                                                                 leaky_re_lu_8[0][0]              \n",
            "__________________________________________________________________________________________________\n",
            "leaky_re_lu_10 (LeakyReLU)      (None, 8, 8, 128)    0           add_4[0][0]                      \n",
            "__________________________________________________________________________________________________\n",
            "conv2d_12 (Conv2D)              (None, 8, 8, 128)    147584      leaky_re_lu_10[0][0]             \n",
            "__________________________________________________________________________________________________\n",
            "dropout_12 (Dropout)            (None, 8, 8, 128)    0           conv2d_12[0][0]                  \n",
            "__________________________________________________________________________________________________\n",
            "batch_normalization_12 (BatchNo (None, 8, 8, 128)    512         dropout_12[0][0]                 \n",
            "__________________________________________________________________________________________________\n",
            "leaky_re_lu_11 (LeakyReLU)      (None, 8, 8, 128)    0           batch_normalization_12[0][0]     \n",
            "__________________________________________________________________________________________________\n",
            "conv2d_13 (Conv2D)              (None, 8, 8, 128)    147584      leaky_re_lu_11[0][0]             \n",
            "__________________________________________________________________________________________________\n",
            "dropout_13 (Dropout)            (None, 8, 8, 128)    0           conv2d_13[0][0]                  \n",
            "__________________________________________________________________________________________________\n",
            "batch_normalization_13 (BatchNo (None, 8, 8, 128)    512         dropout_13[0][0]                 \n",
            "__________________________________________________________________________________________________\n",
            "add_5 (Add)                     (None, 8, 8, 128)    0           batch_normalization_13[0][0]     \n",
            "                                                                 leaky_re_lu_10[0][0]             \n",
            "__________________________________________________________________________________________________\n",
            "leaky_re_lu_12 (LeakyReLU)      (None, 8, 8, 128)    0           add_5[0][0]                      \n",
            "__________________________________________________________________________________________________\n",
            "conv2d_14 (Conv2D)              (None, 8, 8, 128)    147584      leaky_re_lu_12[0][0]             \n",
            "__________________________________________________________________________________________________\n",
            "dropout_14 (Dropout)            (None, 8, 8, 128)    0           conv2d_14[0][0]                  \n",
            "__________________________________________________________________________________________________\n",
            "batch_normalization_14 (BatchNo (None, 8, 8, 128)    512         dropout_14[0][0]                 \n",
            "__________________________________________________________________________________________________\n",
            "leaky_re_lu_13 (LeakyReLU)      (None, 8, 8, 128)    0           batch_normalization_14[0][0]     \n",
            "__________________________________________________________________________________________________\n",
            "conv2d_15 (Conv2D)              (None, 8, 8, 128)    147584      leaky_re_lu_13[0][0]             \n",
            "__________________________________________________________________________________________________\n",
            "dropout_15 (Dropout)            (None, 8, 8, 128)    0           conv2d_15[0][0]                  \n",
            "__________________________________________________________________________________________________\n",
            "batch_normalization_15 (BatchNo (None, 8, 8, 128)    512         dropout_15[0][0]                 \n",
            "__________________________________________________________________________________________________\n",
            "add_6 (Add)                     (None, 8, 8, 128)    0           batch_normalization_15[0][0]     \n",
            "                                                                 leaky_re_lu_12[0][0]             \n",
            "__________________________________________________________________________________________________\n",
            "leaky_re_lu_14 (LeakyReLU)      (None, 8, 8, 128)    0           add_6[0][0]                      \n",
            "__________________________________________________________________________________________________\n",
            "conv2d_16 (Conv2D)              (None, 4, 4, 256)    295168      leaky_re_lu_14[0][0]             \n",
            "__________________________________________________________________________________________________\n",
            "dropout_16 (Dropout)            (None, 4, 4, 256)    0           conv2d_16[0][0]                  \n",
            "__________________________________________________________________________________________________\n",
            "batch_normalization_16 (BatchNo (None, 4, 4, 256)    1024        dropout_16[0][0]                 \n",
            "__________________________________________________________________________________________________\n",
            "leaky_re_lu_15 (LeakyReLU)      (None, 4, 4, 256)    0           batch_normalization_16[0][0]     \n",
            "__________________________________________________________________________________________________\n",
            "conv2d_17 (Conv2D)              (None, 4, 4, 256)    590080      leaky_re_lu_15[0][0]             \n",
            "__________________________________________________________________________________________________\n",
            "dropout_17 (Dropout)            (None, 4, 4, 256)    0           conv2d_17[0][0]                  \n",
            "__________________________________________________________________________________________________\n",
            "batch_normalization_17 (BatchNo (None, 4, 4, 256)    1024        dropout_17[0][0]                 \n",
            "__________________________________________________________________________________________________\n",
            "conv2d_18 (Conv2D)              (None, 4, 4, 256)    33024       leaky_re_lu_14[0][0]             \n",
            "__________________________________________________________________________________________________\n",
            "dropout_18 (Dropout)            (None, 4, 4, 256)    0           batch_normalization_17[0][0]     \n",
            "__________________________________________________________________________________________________\n",
            "batch_normalization_18 (BatchNo (None, 4, 4, 256)    1024        conv2d_18[0][0]                  \n",
            "__________________________________________________________________________________________________\n",
            "add_7 (Add)                     (None, 4, 4, 256)    0           dropout_18[0][0]                 \n",
            "                                                                 batch_normalization_18[0][0]     \n",
            "__________________________________________________________________________________________________\n",
            "leaky_re_lu_16 (LeakyReLU)      (None, 4, 4, 256)    0           add_7[0][0]                      \n",
            "__________________________________________________________________________________________________\n",
            "conv2d_19 (Conv2D)              (None, 4, 4, 256)    590080      leaky_re_lu_16[0][0]             \n",
            "__________________________________________________________________________________________________\n",
            "dropout_19 (Dropout)            (None, 4, 4, 256)    0           conv2d_19[0][0]                  \n",
            "__________________________________________________________________________________________________\n",
            "batch_normalization_19 (BatchNo (None, 4, 4, 256)    1024        dropout_19[0][0]                 \n",
            "__________________________________________________________________________________________________\n",
            "leaky_re_lu_17 (LeakyReLU)      (None, 4, 4, 256)    0           batch_normalization_19[0][0]     \n",
            "__________________________________________________________________________________________________\n",
            "conv2d_20 (Conv2D)              (None, 4, 4, 256)    590080      leaky_re_lu_17[0][0]             \n",
            "__________________________________________________________________________________________________\n",
            "dropout_20 (Dropout)            (None, 4, 4, 256)    0           conv2d_20[0][0]                  \n",
            "__________________________________________________________________________________________________\n",
            "batch_normalization_20 (BatchNo (None, 4, 4, 256)    1024        dropout_20[0][0]                 \n",
            "__________________________________________________________________________________________________\n",
            "add_8 (Add)                     (None, 4, 4, 256)    0           batch_normalization_20[0][0]     \n",
            "                                                                 leaky_re_lu_16[0][0]             \n",
            "__________________________________________________________________________________________________\n",
            "leaky_re_lu_18 (LeakyReLU)      (None, 4, 4, 256)    0           add_8[0][0]                      \n",
            "__________________________________________________________________________________________________\n",
            "conv2d_21 (Conv2D)              (None, 4, 4, 256)    590080      leaky_re_lu_18[0][0]             \n",
            "__________________________________________________________________________________________________\n",
            "dropout_21 (Dropout)            (None, 4, 4, 256)    0           conv2d_21[0][0]                  \n",
            "__________________________________________________________________________________________________\n",
            "batch_normalization_21 (BatchNo (None, 4, 4, 256)    1024        dropout_21[0][0]                 \n",
            "__________________________________________________________________________________________________\n",
            "leaky_re_lu_19 (LeakyReLU)      (None, 4, 4, 256)    0           batch_normalization_21[0][0]     \n",
            "__________________________________________________________________________________________________\n",
            "conv2d_22 (Conv2D)              (None, 4, 4, 256)    590080      leaky_re_lu_19[0][0]             \n",
            "__________________________________________________________________________________________________\n",
            "dropout_22 (Dropout)            (None, 4, 4, 256)    0           conv2d_22[0][0]                  \n",
            "__________________________________________________________________________________________________\n",
            "batch_normalization_22 (BatchNo (None, 4, 4, 256)    1024        dropout_22[0][0]                 \n",
            "__________________________________________________________________________________________________\n",
            "add_9 (Add)                     (None, 4, 4, 256)    0           batch_normalization_22[0][0]     \n",
            "                                                                 leaky_re_lu_18[0][0]             \n",
            "__________________________________________________________________________________________________\n",
            "leaky_re_lu_20 (LeakyReLU)      (None, 4, 4, 256)    0           add_9[0][0]                      \n",
            "__________________________________________________________________________________________________\n",
            "conv2d_23 (Conv2D)              (None, 4, 4, 256)    590080      leaky_re_lu_20[0][0]             \n",
            "__________________________________________________________________________________________________\n",
            "dropout_23 (Dropout)            (None, 4, 4, 256)    0           conv2d_23[0][0]                  \n",
            "__________________________________________________________________________________________________\n",
            "batch_normalization_23 (BatchNo (None, 4, 4, 256)    1024        dropout_23[0][0]                 \n",
            "__________________________________________________________________________________________________\n",
            "leaky_re_lu_21 (LeakyReLU)      (None, 4, 4, 256)    0           batch_normalization_23[0][0]     \n",
            "__________________________________________________________________________________________________\n",
            "conv2d_24 (Conv2D)              (None, 4, 4, 256)    590080      leaky_re_lu_21[0][0]             \n",
            "__________________________________________________________________________________________________\n",
            "dropout_24 (Dropout)            (None, 4, 4, 256)    0           conv2d_24[0][0]                  \n",
            "__________________________________________________________________________________________________\n",
            "batch_normalization_24 (BatchNo (None, 4, 4, 256)    1024        dropout_24[0][0]                 \n",
            "__________________________________________________________________________________________________\n",
            "add_10 (Add)                    (None, 4, 4, 256)    0           batch_normalization_24[0][0]     \n",
            "                                                                 leaky_re_lu_20[0][0]             \n",
            "__________________________________________________________________________________________________\n",
            "leaky_re_lu_22 (LeakyReLU)      (None, 4, 4, 256)    0           add_10[0][0]                     \n",
            "__________________________________________________________________________________________________\n",
            "conv2d_25 (Conv2D)              (None, 4, 4, 256)    590080      leaky_re_lu_22[0][0]             \n",
            "__________________________________________________________________________________________________\n",
            "dropout_25 (Dropout)            (None, 4, 4, 256)    0           conv2d_25[0][0]                  \n",
            "__________________________________________________________________________________________________\n",
            "batch_normalization_25 (BatchNo (None, 4, 4, 256)    1024        dropout_25[0][0]                 \n",
            "__________________________________________________________________________________________________\n",
            "leaky_re_lu_23 (LeakyReLU)      (None, 4, 4, 256)    0           batch_normalization_25[0][0]     \n",
            "__________________________________________________________________________________________________\n",
            "conv2d_26 (Conv2D)              (None, 4, 4, 256)    590080      leaky_re_lu_23[0][0]             \n",
            "__________________________________________________________________________________________________\n",
            "dropout_26 (Dropout)            (None, 4, 4, 256)    0           conv2d_26[0][0]                  \n",
            "__________________________________________________________________________________________________\n",
            "batch_normalization_26 (BatchNo (None, 4, 4, 256)    1024        dropout_26[0][0]                 \n",
            "__________________________________________________________________________________________________\n",
            "add_11 (Add)                    (None, 4, 4, 256)    0           batch_normalization_26[0][0]     \n",
            "                                                                 leaky_re_lu_22[0][0]             \n",
            "__________________________________________________________________________________________________\n",
            "leaky_re_lu_24 (LeakyReLU)      (None, 4, 4, 256)    0           add_11[0][0]                     \n",
            "__________________________________________________________________________________________________\n",
            "conv2d_27 (Conv2D)              (None, 4, 4, 256)    590080      leaky_re_lu_24[0][0]             \n",
            "__________________________________________________________________________________________________\n",
            "dropout_27 (Dropout)            (None, 4, 4, 256)    0           conv2d_27[0][0]                  \n",
            "__________________________________________________________________________________________________\n",
            "batch_normalization_27 (BatchNo (None, 4, 4, 256)    1024        dropout_27[0][0]                 \n",
            "__________________________________________________________________________________________________\n",
            "leaky_re_lu_25 (LeakyReLU)      (None, 4, 4, 256)    0           batch_normalization_27[0][0]     \n",
            "__________________________________________________________________________________________________\n",
            "conv2d_28 (Conv2D)              (None, 4, 4, 256)    590080      leaky_re_lu_25[0][0]             \n",
            "__________________________________________________________________________________________________\n",
            "dropout_28 (Dropout)            (None, 4, 4, 256)    0           conv2d_28[0][0]                  \n",
            "__________________________________________________________________________________________________\n",
            "batch_normalization_28 (BatchNo (None, 4, 4, 256)    1024        dropout_28[0][0]                 \n",
            "__________________________________________________________________________________________________\n",
            "add_12 (Add)                    (None, 4, 4, 256)    0           batch_normalization_28[0][0]     \n",
            "                                                                 leaky_re_lu_24[0][0]             \n",
            "__________________________________________________________________________________________________\n",
            "leaky_re_lu_26 (LeakyReLU)      (None, 4, 4, 256)    0           add_12[0][0]                     \n",
            "__________________________________________________________________________________________________\n",
            "conv2d_29 (Conv2D)              (None, 2, 2, 512)    1180160     leaky_re_lu_26[0][0]             \n",
            "__________________________________________________________________________________________________\n",
            "dropout_29 (Dropout)            (None, 2, 2, 512)    0           conv2d_29[0][0]                  \n",
            "__________________________________________________________________________________________________\n",
            "batch_normalization_29 (BatchNo (None, 2, 2, 512)    2048        dropout_29[0][0]                 \n",
            "__________________________________________________________________________________________________\n",
            "leaky_re_lu_27 (LeakyReLU)      (None, 2, 2, 512)    0           batch_normalization_29[0][0]     \n",
            "__________________________________________________________________________________________________\n",
            "conv2d_30 (Conv2D)              (None, 2, 2, 512)    2359808     leaky_re_lu_27[0][0]             \n",
            "__________________________________________________________________________________________________\n",
            "dropout_30 (Dropout)            (None, 2, 2, 512)    0           conv2d_30[0][0]                  \n",
            "__________________________________________________________________________________________________\n",
            "batch_normalization_30 (BatchNo (None, 2, 2, 512)    2048        dropout_30[0][0]                 \n",
            "__________________________________________________________________________________________________\n",
            "conv2d_31 (Conv2D)              (None, 2, 2, 512)    131584      leaky_re_lu_26[0][0]             \n",
            "__________________________________________________________________________________________________\n",
            "dropout_31 (Dropout)            (None, 2, 2, 512)    0           batch_normalization_30[0][0]     \n",
            "__________________________________________________________________________________________________\n",
            "batch_normalization_31 (BatchNo (None, 2, 2, 512)    2048        conv2d_31[0][0]                  \n",
            "__________________________________________________________________________________________________\n",
            "add_13 (Add)                    (None, 2, 2, 512)    0           dropout_31[0][0]                 \n",
            "                                                                 batch_normalization_31[0][0]     \n",
            "__________________________________________________________________________________________________\n",
            "leaky_re_lu_28 (LeakyReLU)      (None, 2, 2, 512)    0           add_13[0][0]                     \n",
            "__________________________________________________________________________________________________\n",
            "conv2d_32 (Conv2D)              (None, 2, 2, 512)    2359808     leaky_re_lu_28[0][0]             \n",
            "__________________________________________________________________________________________________\n",
            "dropout_32 (Dropout)            (None, 2, 2, 512)    0           conv2d_32[0][0]                  \n",
            "__________________________________________________________________________________________________\n",
            "batch_normalization_32 (BatchNo (None, 2, 2, 512)    2048        dropout_32[0][0]                 \n",
            "__________________________________________________________________________________________________\n",
            "leaky_re_lu_29 (LeakyReLU)      (None, 2, 2, 512)    0           batch_normalization_32[0][0]     \n",
            "__________________________________________________________________________________________________\n",
            "conv2d_33 (Conv2D)              (None, 2, 2, 512)    2359808     leaky_re_lu_29[0][0]             \n",
            "__________________________________________________________________________________________________\n",
            "dropout_33 (Dropout)            (None, 2, 2, 512)    0           conv2d_33[0][0]                  \n",
            "__________________________________________________________________________________________________\n",
            "batch_normalization_33 (BatchNo (None, 2, 2, 512)    2048        dropout_33[0][0]                 \n",
            "__________________________________________________________________________________________________\n",
            "add_14 (Add)                    (None, 2, 2, 512)    0           batch_normalization_33[0][0]     \n",
            "                                                                 leaky_re_lu_28[0][0]             \n",
            "__________________________________________________________________________________________________\n",
            "leaky_re_lu_30 (LeakyReLU)      (None, 2, 2, 512)    0           add_14[0][0]                     \n",
            "__________________________________________________________________________________________________\n",
            "conv2d_34 (Conv2D)              (None, 2, 2, 512)    2359808     leaky_re_lu_30[0][0]             \n",
            "__________________________________________________________________________________________________\n",
            "dropout_34 (Dropout)            (None, 2, 2, 512)    0           conv2d_34[0][0]                  \n",
            "__________________________________________________________________________________________________\n",
            "batch_normalization_34 (BatchNo (None, 2, 2, 512)    2048        dropout_34[0][0]                 \n",
            "__________________________________________________________________________________________________\n",
            "leaky_re_lu_31 (LeakyReLU)      (None, 2, 2, 512)    0           batch_normalization_34[0][0]     \n",
            "__________________________________________________________________________________________________\n",
            "conv2d_35 (Conv2D)              (None, 2, 2, 512)    2359808     leaky_re_lu_31[0][0]             \n",
            "__________________________________________________________________________________________________\n",
            "dropout_35 (Dropout)            (None, 2, 2, 512)    0           conv2d_35[0][0]                  \n",
            "__________________________________________________________________________________________________\n",
            "batch_normalization_35 (BatchNo (None, 2, 2, 512)    2048        dropout_35[0][0]                 \n",
            "__________________________________________________________________________________________________\n",
            "add_15 (Add)                    (None, 2, 2, 512)    0           batch_normalization_35[0][0]     \n",
            "                                                                 leaky_re_lu_30[0][0]             \n",
            "__________________________________________________________________________________________________\n",
            "leaky_re_lu_32 (LeakyReLU)      (None, 2, 2, 512)    0           add_15[0][0]                     \n",
            "__________________________________________________________________________________________________\n",
            "average_pooling2d (AveragePooli (None, 1, 1, 512)    0           leaky_re_lu_32[0][0]             \n",
            "__________________________________________________________________________________________________\n",
            "flatten (Flatten)               (None, 512)          0           average_pooling2d[0][0]          \n",
            "__________________________________________________________________________________________________\n",
            "dense (Dense)                   (None, 10)           5130        flatten[0][0]                    \n",
            "==================================================================================================\n",
            "Total params: 21,309,066\n",
            "Trainable params: 21,292,042\n",
            "Non-trainable params: 17,024\n",
            "__________________________________________________________________________________________________\n"
          ],
          "name": "stdout"
        }
      ]
    },
    {
      "cell_type": "markdown",
      "metadata": {
        "id": "pCz_5gKBEn25",
        "colab_type": "text"
      },
      "source": [
        "Train the model with two callbacks. One of the callback is for reducing the learning rate when the val_loss starts to plateau. The other callback is for stopping early if the val_loss doesn't change over a few epochs. The early stopping callback restores the best weights found. "
      ]
    },
    {
      "cell_type": "code",
      "metadata": {
        "id": "udLCUiSIZQNv",
        "colab_type": "code",
        "outputId": "d46c64b4-e25e-49ed-dcf8-9e239ea73bb2",
        "colab": {
          "base_uri": "https://localhost:8080/",
          "height": 1000
        }
      },
      "source": [
        "reduce_lr = ReduceLROnPlateau(monitor='val_loss', factor=np.sqrt(0.1), patience=3, min_lr=0.5e-6)\n",
        "early_stop = EarlyStopping(monitor='val_loss', patience=15, verbose=1, restore_best_weights=True)\n",
        "if augment_data:\n",
        "  history = resnet34.fit(train_iterator, epochs=epochs, steps_per_epoch=len(train_iterator), \n",
        "                                validation_data=validation_iterator, validation_steps=len(validation_iterator), \n",
        "                                callbacks=[reduce_lr, early_stop])\n",
        "else:\n",
        "  history = resnet34.fit(x=train_images, y=train_labels, epochs=epochs, batch_size=batch_size, \n",
        "                      validation_split=validation_percent,\n",
        "                      callbacks=[reduce_lr, early_stop])"
      ],
      "execution_count": 11,
      "outputs": [
        {
          "output_type": "stream",
          "text": [
            "Epoch 1/100\n",
            "422/422 [==============================] - 45s 106ms/step - loss: 1.2185 - accuracy: 0.8615 - val_loss: 1.0813 - val_accuracy: 0.9080 - lr: 0.0010\n",
            "Epoch 2/100\n",
            "422/422 [==============================] - 43s 103ms/step - loss: 0.7254 - accuracy: 0.9539 - val_loss: 0.9198 - val_accuracy: 0.8842 - lr: 0.0010\n",
            "Epoch 3/100\n",
            "422/422 [==============================] - 43s 103ms/step - loss: 0.5183 - accuracy: 0.9645 - val_loss: 0.4853 - val_accuracy: 0.9543 - lr: 0.0010\n",
            "Epoch 4/100\n",
            "422/422 [==============================] - 43s 103ms/step - loss: 0.4019 - accuracy: 0.9680 - val_loss: 0.4046 - val_accuracy: 0.9578 - lr: 0.0010\n",
            "Epoch 5/100\n",
            "422/422 [==============================] - 43s 102ms/step - loss: 0.3364 - accuracy: 0.9694 - val_loss: 0.3713 - val_accuracy: 0.9475 - lr: 0.0010\n",
            "Epoch 6/100\n",
            "422/422 [==============================] - 44s 103ms/step - loss: 0.3059 - accuracy: 0.9697 - val_loss: 0.3406 - val_accuracy: 0.9583 - lr: 0.0010\n",
            "Epoch 7/100\n",
            "422/422 [==============================] - 44s 103ms/step - loss: 0.2811 - accuracy: 0.9720 - val_loss: 0.2706 - val_accuracy: 0.9748 - lr: 0.0010\n",
            "Epoch 8/100\n",
            "422/422 [==============================] - 43s 103ms/step - loss: 0.2666 - accuracy: 0.9723 - val_loss: 0.2744 - val_accuracy: 0.9712 - lr: 0.0010\n",
            "Epoch 9/100\n",
            "422/422 [==============================] - 43s 102ms/step - loss: 0.2706 - accuracy: 0.9724 - val_loss: 0.3624 - val_accuracy: 0.9617 - lr: 0.0010\n",
            "Epoch 10/100\n",
            "422/422 [==============================] - 43s 103ms/step - loss: 0.2414 - accuracy: 0.9762 - val_loss: 0.2599 - val_accuracy: 0.9642 - lr: 0.0010\n",
            "Epoch 11/100\n",
            "422/422 [==============================] - 43s 102ms/step - loss: 0.2273 - accuracy: 0.9758 - val_loss: 0.2705 - val_accuracy: 0.9590 - lr: 0.0010\n",
            "Epoch 12/100\n",
            "422/422 [==============================] - 44s 103ms/step - loss: 0.2226 - accuracy: 0.9762 - val_loss: 0.2447 - val_accuracy: 0.9723 - lr: 0.0010\n",
            "Epoch 13/100\n",
            "422/422 [==============================] - 43s 103ms/step - loss: 0.2600 - accuracy: 0.9736 - val_loss: 0.2883 - val_accuracy: 0.9608 - lr: 0.0010\n",
            "Epoch 14/100\n",
            "422/422 [==============================] - 42s 100ms/step - loss: 0.2224 - accuracy: 0.9779 - val_loss: 0.2063 - val_accuracy: 0.9813 - lr: 0.0010\n",
            "Epoch 15/100\n",
            "422/422 [==============================] - 42s 100ms/step - loss: 0.2298 - accuracy: 0.9766 - val_loss: 0.3329 - val_accuracy: 0.9570 - lr: 0.0010\n",
            "Epoch 16/100\n",
            "422/422 [==============================] - 42s 100ms/step - loss: 0.2698 - accuracy: 0.9754 - val_loss: 0.2416 - val_accuracy: 0.9767 - lr: 0.0010\n",
            "Epoch 17/100\n",
            "422/422 [==============================] - 42s 99ms/step - loss: 0.2126 - accuracy: 0.9786 - val_loss: 0.2192 - val_accuracy: 0.9763 - lr: 0.0010\n",
            "Epoch 18/100\n",
            "422/422 [==============================] - 41s 98ms/step - loss: 0.1572 - accuracy: 0.9877 - val_loss: 0.1572 - val_accuracy: 0.9853 - lr: 3.1623e-04\n",
            "Epoch 19/100\n",
            "422/422 [==============================] - 41s 98ms/step - loss: 0.1402 - accuracy: 0.9882 - val_loss: 0.1447 - val_accuracy: 0.9863 - lr: 3.1623e-04\n",
            "Epoch 20/100\n",
            "422/422 [==============================] - 41s 97ms/step - loss: 0.1301 - accuracy: 0.9878 - val_loss: 0.1334 - val_accuracy: 0.9857 - lr: 3.1623e-04\n",
            "Epoch 21/100\n",
            "422/422 [==============================] - 41s 98ms/step - loss: 0.1169 - accuracy: 0.9886 - val_loss: 0.1092 - val_accuracy: 0.9917 - lr: 3.1623e-04\n",
            "Epoch 22/100\n",
            "422/422 [==============================] - 41s 98ms/step - loss: 0.1144 - accuracy: 0.9879 - val_loss: 0.1318 - val_accuracy: 0.9818 - lr: 3.1623e-04\n",
            "Epoch 23/100\n",
            "422/422 [==============================] - 42s 99ms/step - loss: 0.1118 - accuracy: 0.9885 - val_loss: 0.1053 - val_accuracy: 0.9903 - lr: 3.1623e-04\n",
            "Epoch 24/100\n",
            "422/422 [==============================] - 41s 96ms/step - loss: 0.1124 - accuracy: 0.9881 - val_loss: 0.1082 - val_accuracy: 0.9892 - lr: 3.1623e-04\n",
            "Epoch 25/100\n",
            "422/422 [==============================] - 41s 96ms/step - loss: 0.1092 - accuracy: 0.9883 - val_loss: 0.1009 - val_accuracy: 0.9887 - lr: 3.1623e-04\n",
            "Epoch 26/100\n",
            "422/422 [==============================] - 40s 96ms/step - loss: 0.1063 - accuracy: 0.9885 - val_loss: 0.0984 - val_accuracy: 0.9907 - lr: 3.1623e-04\n",
            "Epoch 27/100\n",
            "422/422 [==============================] - 40s 95ms/step - loss: 0.1036 - accuracy: 0.9890 - val_loss: 0.1024 - val_accuracy: 0.9892 - lr: 3.1623e-04\n",
            "Epoch 28/100\n",
            "422/422 [==============================] - 41s 96ms/step - loss: 0.1037 - accuracy: 0.9886 - val_loss: 0.1085 - val_accuracy: 0.9875 - lr: 3.1623e-04\n",
            "Epoch 29/100\n",
            "422/422 [==============================] - 40s 95ms/step - loss: 0.1087 - accuracy: 0.9880 - val_loss: 0.0977 - val_accuracy: 0.9890 - lr: 3.1623e-04\n",
            "Epoch 30/100\n",
            "422/422 [==============================] - 40s 95ms/step - loss: 0.1001 - accuracy: 0.9888 - val_loss: 0.0955 - val_accuracy: 0.9890 - lr: 3.1623e-04\n",
            "Epoch 31/100\n",
            "422/422 [==============================] - 39s 94ms/step - loss: 0.0984 - accuracy: 0.9889 - val_loss: 0.0963 - val_accuracy: 0.9888 - lr: 3.1623e-04\n",
            "Epoch 32/100\n",
            "422/422 [==============================] - 39s 93ms/step - loss: 0.0963 - accuracy: 0.9890 - val_loss: 0.0998 - val_accuracy: 0.9880 - lr: 3.1623e-04\n",
            "Epoch 33/100\n",
            "422/422 [==============================] - 39s 93ms/step - loss: 0.0996 - accuracy: 0.9889 - val_loss: 0.0920 - val_accuracy: 0.9900 - lr: 3.1623e-04\n",
            "Epoch 34/100\n",
            "422/422 [==============================] - 39s 93ms/step - loss: 0.1030 - accuracy: 0.9893 - val_loss: 0.1056 - val_accuracy: 0.9857 - lr: 3.1623e-04\n",
            "Epoch 35/100\n",
            "422/422 [==============================] - 40s 94ms/step - loss: 0.1137 - accuracy: 0.9877 - val_loss: 0.1021 - val_accuracy: 0.9895 - lr: 3.1623e-04\n",
            "Epoch 36/100\n",
            "422/422 [==============================] - 41s 97ms/step - loss: 0.0978 - accuracy: 0.9895 - val_loss: 0.1040 - val_accuracy: 0.9867 - lr: 3.1623e-04\n",
            "Epoch 37/100\n",
            "422/422 [==============================] - 40s 96ms/step - loss: 0.0809 - accuracy: 0.9929 - val_loss: 0.0826 - val_accuracy: 0.9902 - lr: 1.0000e-04\n",
            "Epoch 38/100\n",
            "422/422 [==============================] - 40s 96ms/step - loss: 0.0709 - accuracy: 0.9945 - val_loss: 0.0716 - val_accuracy: 0.9932 - lr: 1.0000e-04\n",
            "Epoch 39/100\n",
            "422/422 [==============================] - 40s 95ms/step - loss: 0.0692 - accuracy: 0.9939 - val_loss: 0.0711 - val_accuracy: 0.9930 - lr: 1.0000e-04\n",
            "Epoch 40/100\n",
            "422/422 [==============================] - 40s 96ms/step - loss: 0.0661 - accuracy: 0.9942 - val_loss: 0.0704 - val_accuracy: 0.9922 - lr: 1.0000e-04\n",
            "Epoch 41/100\n",
            "422/422 [==============================] - 40s 94ms/step - loss: 0.0645 - accuracy: 0.9940 - val_loss: 0.0674 - val_accuracy: 0.9933 - lr: 1.0000e-04\n",
            "Epoch 42/100\n",
            "422/422 [==============================] - 40s 95ms/step - loss: 0.0623 - accuracy: 0.9943 - val_loss: 0.0648 - val_accuracy: 0.9922 - lr: 1.0000e-04\n",
            "Epoch 43/100\n",
            "422/422 [==============================] - 40s 94ms/step - loss: 0.0607 - accuracy: 0.9944 - val_loss: 0.0674 - val_accuracy: 0.9918 - lr: 1.0000e-04\n",
            "Epoch 44/100\n",
            "422/422 [==============================] - 40s 94ms/step - loss: 0.0609 - accuracy: 0.9939 - val_loss: 0.0623 - val_accuracy: 0.9930 - lr: 1.0000e-04\n",
            "Epoch 45/100\n",
            "422/422 [==============================] - 39s 93ms/step - loss: 0.0576 - accuracy: 0.9944 - val_loss: 0.0626 - val_accuracy: 0.9927 - lr: 1.0000e-04\n",
            "Epoch 46/100\n",
            "422/422 [==============================] - 40s 94ms/step - loss: 0.0575 - accuracy: 0.9942 - val_loss: 0.0581 - val_accuracy: 0.9948 - lr: 1.0000e-04\n",
            "Epoch 47/100\n",
            "422/422 [==============================] - 40s 96ms/step - loss: 0.0568 - accuracy: 0.9943 - val_loss: 0.0577 - val_accuracy: 0.9943 - lr: 1.0000e-04\n",
            "Epoch 48/100\n",
            "422/422 [==============================] - 41s 97ms/step - loss: 0.0556 - accuracy: 0.9941 - val_loss: 0.0603 - val_accuracy: 0.9915 - lr: 1.0000e-04\n",
            "Epoch 49/100\n",
            "422/422 [==============================] - 40s 95ms/step - loss: 0.0550 - accuracy: 0.9943 - val_loss: 0.0634 - val_accuracy: 0.9920 - lr: 1.0000e-04\n",
            "Epoch 50/100\n",
            "422/422 [==============================] - 40s 95ms/step - loss: 0.0536 - accuracy: 0.9945 - val_loss: 0.0611 - val_accuracy: 0.9925 - lr: 1.0000e-04\n",
            "Epoch 51/100\n",
            "422/422 [==============================] - 41s 97ms/step - loss: 0.0482 - accuracy: 0.9961 - val_loss: 0.0506 - val_accuracy: 0.9943 - lr: 3.1623e-05\n",
            "Epoch 52/100\n",
            "422/422 [==============================] - 41s 98ms/step - loss: 0.0468 - accuracy: 0.9959 - val_loss: 0.0505 - val_accuracy: 0.9947 - lr: 3.1623e-05\n",
            "Epoch 53/100\n",
            "422/422 [==============================] - 41s 97ms/step - loss: 0.0460 - accuracy: 0.9960 - val_loss: 0.0480 - val_accuracy: 0.9953 - lr: 3.1623e-05\n",
            "Epoch 54/100\n",
            "422/422 [==============================] - 41s 96ms/step - loss: 0.0448 - accuracy: 0.9963 - val_loss: 0.0491 - val_accuracy: 0.9950 - lr: 3.1623e-05\n",
            "Epoch 55/100\n",
            "422/422 [==============================] - 41s 98ms/step - loss: 0.0441 - accuracy: 0.9959 - val_loss: 0.0480 - val_accuracy: 0.9940 - lr: 3.1623e-05\n",
            "Epoch 56/100\n",
            "422/422 [==============================] - 42s 99ms/step - loss: 0.0433 - accuracy: 0.9965 - val_loss: 0.0486 - val_accuracy: 0.9945 - lr: 3.1623e-05\n",
            "Epoch 57/100\n",
            "422/422 [==============================] - 41s 96ms/step - loss: 0.0414 - accuracy: 0.9967 - val_loss: 0.0487 - val_accuracy: 0.9945 - lr: 1.0000e-05\n",
            "Epoch 58/100\n",
            "422/422 [==============================] - 41s 97ms/step - loss: 0.0407 - accuracy: 0.9969 - val_loss: 0.0446 - val_accuracy: 0.9950 - lr: 1.0000e-05\n",
            "Epoch 59/100\n",
            "422/422 [==============================] - 40s 96ms/step - loss: 0.0399 - accuracy: 0.9970 - val_loss: 0.0476 - val_accuracy: 0.9950 - lr: 1.0000e-05\n",
            "Epoch 60/100\n",
            "422/422 [==============================] - 40s 95ms/step - loss: 0.0399 - accuracy: 0.9971 - val_loss: 0.0460 - val_accuracy: 0.9957 - lr: 1.0000e-05\n",
            "Epoch 61/100\n",
            "422/422 [==============================] - 40s 95ms/step - loss: 0.0394 - accuracy: 0.9971 - val_loss: 0.0470 - val_accuracy: 0.9950 - lr: 1.0000e-05\n",
            "Epoch 62/100\n",
            "422/422 [==============================] - 40s 95ms/step - loss: 0.0388 - accuracy: 0.9972 - val_loss: 0.0465 - val_accuracy: 0.9948 - lr: 3.1623e-06\n",
            "Epoch 63/100\n",
            "422/422 [==============================] - 41s 96ms/step - loss: 0.0393 - accuracy: 0.9970 - val_loss: 0.0445 - val_accuracy: 0.9952 - lr: 3.1623e-06\n",
            "Epoch 64/100\n",
            "422/422 [==============================] - 41s 98ms/step - loss: 0.0393 - accuracy: 0.9971 - val_loss: 0.0457 - val_accuracy: 0.9950 - lr: 3.1623e-06\n",
            "Epoch 65/100\n",
            "422/422 [==============================] - 41s 98ms/step - loss: 0.0395 - accuracy: 0.9969 - val_loss: 0.0447 - val_accuracy: 0.9958 - lr: 1.0000e-06\n",
            "Epoch 66/100\n",
            "422/422 [==============================] - 42s 99ms/step - loss: 0.0381 - accuracy: 0.9974 - val_loss: 0.0465 - val_accuracy: 0.9942 - lr: 1.0000e-06\n",
            "Epoch 67/100\n",
            "422/422 [==============================] - 41s 98ms/step - loss: 0.0385 - accuracy: 0.9971 - val_loss: 0.0433 - val_accuracy: 0.9952 - lr: 1.0000e-06\n",
            "Epoch 68/100\n",
            "422/422 [==============================] - 41s 98ms/step - loss: 0.0379 - accuracy: 0.9975 - val_loss: 0.0478 - val_accuracy: 0.9947 - lr: 1.0000e-06\n",
            "Epoch 69/100\n",
            "422/422 [==============================] - 41s 98ms/step - loss: 0.0383 - accuracy: 0.9974 - val_loss: 0.0428 - val_accuracy: 0.9960 - lr: 1.0000e-06\n",
            "Epoch 70/100\n",
            "422/422 [==============================] - 41s 96ms/step - loss: 0.0376 - accuracy: 0.9974 - val_loss: 0.0471 - val_accuracy: 0.9945 - lr: 1.0000e-06\n",
            "Epoch 71/100\n",
            "422/422 [==============================] - 40s 96ms/step - loss: 0.0381 - accuracy: 0.9974 - val_loss: 0.0443 - val_accuracy: 0.9945 - lr: 1.0000e-06\n",
            "Epoch 72/100\n",
            "422/422 [==============================] - 40s 95ms/step - loss: 0.0372 - accuracy: 0.9977 - val_loss: 0.0474 - val_accuracy: 0.9952 - lr: 1.0000e-06\n",
            "Epoch 73/100\n",
            "422/422 [==============================] - 40s 95ms/step - loss: 0.0380 - accuracy: 0.9974 - val_loss: 0.0406 - val_accuracy: 0.9962 - lr: 5.0000e-07\n",
            "Epoch 74/100\n",
            "422/422 [==============================] - 40s 95ms/step - loss: 0.0379 - accuracy: 0.9974 - val_loss: 0.0470 - val_accuracy: 0.9942 - lr: 5.0000e-07\n",
            "Epoch 75/100\n",
            "422/422 [==============================] - 40s 94ms/step - loss: 0.0387 - accuracy: 0.9973 - val_loss: 0.0443 - val_accuracy: 0.9957 - lr: 5.0000e-07\n",
            "Epoch 76/100\n",
            "422/422 [==============================] - 40s 95ms/step - loss: 0.0378 - accuracy: 0.9975 - val_loss: 0.0453 - val_accuracy: 0.9948 - lr: 5.0000e-07\n",
            "Epoch 77/100\n",
            "422/422 [==============================] - 40s 94ms/step - loss: 0.0374 - accuracy: 0.9977 - val_loss: 0.0464 - val_accuracy: 0.9958 - lr: 5.0000e-07\n",
            "Epoch 78/100\n",
            "422/422 [==============================] - 40s 94ms/step - loss: 0.0382 - accuracy: 0.9971 - val_loss: 0.0434 - val_accuracy: 0.9947 - lr: 5.0000e-07\n",
            "Epoch 79/100\n",
            "422/422 [==============================] - 40s 94ms/step - loss: 0.0381 - accuracy: 0.9974 - val_loss: 0.0460 - val_accuracy: 0.9958 - lr: 5.0000e-07\n",
            "Epoch 80/100\n",
            "422/422 [==============================] - 40s 95ms/step - loss: 0.0375 - accuracy: 0.9977 - val_loss: 0.0426 - val_accuracy: 0.9958 - lr: 5.0000e-07\n",
            "Epoch 81/100\n",
            "422/422 [==============================] - 41s 97ms/step - loss: 0.0372 - accuracy: 0.9977 - val_loss: 0.0413 - val_accuracy: 0.9963 - lr: 5.0000e-07\n",
            "Epoch 82/100\n",
            "422/422 [==============================] - 42s 100ms/step - loss: 0.0380 - accuracy: 0.9973 - val_loss: 0.0443 - val_accuracy: 0.9953 - lr: 5.0000e-07\n",
            "Epoch 83/100\n",
            "422/422 [==============================] - 41s 97ms/step - loss: 0.0376 - accuracy: 0.9973 - val_loss: 0.0501 - val_accuracy: 0.9937 - lr: 5.0000e-07\n",
            "Epoch 84/100\n",
            "422/422 [==============================] - 40s 96ms/step - loss: 0.0379 - accuracy: 0.9974 - val_loss: 0.0421 - val_accuracy: 0.9967 - lr: 5.0000e-07\n",
            "Epoch 85/100\n",
            "422/422 [==============================] - 40s 95ms/step - loss: 0.0375 - accuracy: 0.9977 - val_loss: 0.0458 - val_accuracy: 0.9957 - lr: 5.0000e-07\n",
            "Epoch 86/100\n",
            "422/422 [==============================] - 40s 94ms/step - loss: 0.0377 - accuracy: 0.9976 - val_loss: 0.0448 - val_accuracy: 0.9953 - lr: 5.0000e-07\n",
            "Epoch 87/100\n",
            "422/422 [==============================] - 40s 94ms/step - loss: 0.0374 - accuracy: 0.9976 - val_loss: 0.0423 - val_accuracy: 0.9950 - lr: 5.0000e-07\n",
            "Epoch 88/100\n",
            "422/422 [==============================] - ETA: 0s - loss: 0.0378 - accuracy: 0.9974Restoring model weights from the end of the best epoch.\n",
            "422/422 [==============================] - 40s 94ms/step - loss: 0.0378 - accuracy: 0.9974 - val_loss: 0.0468 - val_accuracy: 0.9950 - lr: 5.0000e-07\n",
            "Epoch 00088: early stopping\n"
          ],
          "name": "stdout"
        }
      ]
    },
    {
      "cell_type": "markdown",
      "metadata": {
        "id": "4bMwiGbYExfQ",
        "colab_type": "text"
      },
      "source": [
        "Plot the accuracy and loss graph over the epochs for training and validation. "
      ]
    },
    {
      "cell_type": "code",
      "metadata": {
        "id": "6B7aNj4QgdbJ",
        "colab_type": "code",
        "colab": {
          "base_uri": "https://localhost:8080/",
          "height": 573
        },
        "outputId": "c1f64d08-d9b5-4776-fdda-f198681b7c59"
      },
      "source": [
        "# summarize history for accuracy\n",
        "plt.plot(history.history['accuracy'])\n",
        "plt.plot(history.history['val_accuracy'])\n",
        "plt.title('model accuracy of resnet34 on ' + dataset_name)\n",
        "plt.ylabel('accuracy')\n",
        "plt.xlabel('epoch')\n",
        "plt.legend(['train', 'test'], loc='upper left')\n",
        "plt.show()\n",
        "# summarize history for loss\n",
        "plt.plot(history.history['loss'])\n",
        "plt.plot(history.history['val_loss'])\n",
        "plt.title('model loss of resnet34 on ' + dataset_name)\n",
        "plt.ylabel('loss')\n",
        "plt.xlabel('epoch')\n",
        "plt.legend(['train', 'test'], loc='upper left')\n",
        "plt.show()"
      ],
      "execution_count": 12,
      "outputs": [
        {
          "output_type": "display_data",
          "data": {
            "image/png": "[encoded data removed]",
            "text/plain": [
              "<Figure size 432x288 with 1 Axes>"
            ]
          },
          "metadata": {
            "tags": [],
            "needs_background": "light"
          }
        },
        {
          "output_type": "display_data",
          "data": {
            "image/png": "[encoded data removed]",
            "text/plain": [
              "<Figure size 432x288 with 1 Axes>"
            ]
          },
          "metadata": {
            "tags": [],
            "needs_background": "light"
          }
        }
      ]
    },
    {
      "cell_type": "markdown",
      "metadata": {
        "id": "-o5cgxpiE48I",
        "colab_type": "text"
      },
      "source": [
        "Evaluate the model performance on the test set."
      ]
    },
    {
      "cell_type": "code",
      "metadata": {
        "id": "_cKVpkKCc9ri",
        "colab_type": "code",
        "colab": {
          "base_uri": "https://localhost:8080/",
          "height": 34
        },
        "outputId": "52fd01fb-ee2d-452c-ec40-27d4be68de74"
      },
      "source": [
        "eval = resnet34.evaluate(test_images, test_labels, batch_size=batch_size)"
      ],
      "execution_count": 13,
      "outputs": [
        {
          "output_type": "stream",
          "text": [
            "79/79 [==============================] - 2s 23ms/step - loss: 0.0453 - accuracy: 0.9958\n"
          ],
          "name": "stdout"
        }
      ]
    },
    {
      "cell_type": "markdown",
      "metadata": {
        "id": "2t3M8dfGE_sJ",
        "colab_type": "text"
      },
      "source": [
        "Create predictions for the test set"
      ]
    },
    {
      "cell_type": "code",
      "metadata": {
        "id": "qxXzJLV7g8va",
        "colab_type": "code",
        "colab": {}
      },
      "source": [
        "predictions = resnet34.predict(test_images, batch_size=batch_size)"
      ],
      "execution_count": 0,
      "outputs": []
    },
    {
      "cell_type": "markdown",
      "metadata": {
        "id": "ccGd5x51FAh_",
        "colab_type": "text"
      },
      "source": [
        "Visualize the some examples of the success and fail cases for the model on the test set."
      ]
    },
    {
      "cell_type": "code",
      "metadata": {
        "id": "lFOoK6RNlwKw",
        "colab_type": "code",
        "colab": {
          "base_uri": "https://localhost:8080/",
          "height": 571
        },
        "outputId": "d1c63ff5-fcb2-4ca0-d048-bafc0fdfca5f"
      },
      "source": [
        "visualize(predictions, test_labels, test_img, dataset_name)"
      ],
      "execution_count": 15,
      "outputs": [
        {
          "output_type": "display_data",
          "data": {
            "image/png": "[encoded data removed]",
            "text/plain": [
              "<Figure size 432x288 with 4 Axes>"
            ]
          },
          "metadata": {
            "tags": [],
            "needs_background": "light"
          }
        },
        {
          "output_type": "display_data",
          "data": {
            "image/png": "[encoded data removed]",
            "text/plain": [
              "<Figure size 432x288 with 4 Axes>"
            ]
          },
          "metadata": {
            "tags": [],
            "needs_background": "light"
          }
        }
      ]
    }
  ]
}