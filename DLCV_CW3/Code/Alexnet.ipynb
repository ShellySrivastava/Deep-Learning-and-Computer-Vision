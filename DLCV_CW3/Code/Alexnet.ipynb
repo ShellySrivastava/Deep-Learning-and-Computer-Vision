{
  "nbformat": 4,
  "nbformat_minor": 0,
  "metadata": {
    "colab": {
      "name": "Alexnet.ipynb",
      "provenance": [],
      "collapsed_sections": []
    },
    "kernelspec": {
      "name": "python3",
      "display_name": "Python 3"
    },
    "accelerator": "GPU"
  },
  "cells": [
    {
      "cell_type": "markdown",
      "metadata": {
        "id": "vBUFvBvQ82NW",
        "colab_type": "text"
      },
      "source": [
        "Necessary imports"
      ]
    },
    {
      "cell_type": "code",
      "metadata": {
        "id": "qdIOAlwfuUdc",
        "colab_type": "code",
        "colab": {}
      },
      "source": [
        "import tensorflow as tf\n",
        "import tensorflow_datasets as tfds\n",
        "from tensorflow.keras.utils import to_categorical\n",
        "import matplotlib.pyplot as plt\n",
        "import numpy as np\n",
        "from tensorflow.keras.preprocessing.image import img_to_array, array_to_img, ImageDataGenerator\n",
        "from tensorflow.keras.callbacks import EarlyStopping, ReduceLROnPlateau\n",
        "from keras.regularizers import l2"
      ],
      "execution_count": 0,
      "outputs": []
    },
    {
      "cell_type": "code",
      "metadata": {
        "id": "C7jC1C3gAv5W",
        "colab_type": "code",
        "colab": {}
      },
      "source": [
        "from tensorflow.keras.layers import Conv2D, MaxPooling2D, Flatten, Dense, Input, BatchNormalization, Add, Activation, AveragePooling2D, Dropout\n",
        "from tensorflow.keras.models import Sequential, Model\n",
        "from tensorflow.keras.optimizers import Adam, SGD\n",
        "from tensorflow.keras.losses import categorical_crossentropy"
      ],
      "execution_count": 0,
      "outputs": []
    },
    {
      "cell_type": "markdown",
      "metadata": {
        "id": "ay_kzj4UFUr8",
        "colab_type": "text"
      },
      "source": [
        "Method to load datasets based on their name. This method can load one of the three datasets namely, MNIST, Fashion_MNIST and Cifar-10."
      ]
    },
    {
      "cell_type": "code",
      "metadata": {
        "id": "WbMRurIC8yIy",
        "colab_type": "code",
        "colab": {}
      },
      "source": [
        "def load_dataset(dataset):\n",
        "  if dataset == 'mnist':\n",
        "    return tf.keras.datasets.mnist.load_data()\n",
        "  elif dataset == 'fashion_mnist':\n",
        "    return tf.keras.datasets.fashion_mnist.load_data()\n",
        "  elif dataset == 'cifar-10':\n",
        "    return tf.keras.datasets.cifar10.load_data()\n",
        "  else:\n",
        "    return -1"
      ],
      "execution_count": 0,
      "outputs": []
    },
    {
      "cell_type": "markdown",
      "metadata": {
        "id": "k6YxXcyGFYqS",
        "colab_type": "text"
      },
      "source": [
        "This method preprocesses the dataset. It increases the size of the image to 64x64 and normalises the dataset by mean subtraction. The labels are converted to one hot representation. "
      ]
    },
    {
      "cell_type": "code",
      "metadata": {
        "id": "y_dg1YKsv34f",
        "colab_type": "code",
        "colab": {}
      },
      "source": [
        "def preprocess_dataset(x_train, y_train, x_test, y_test):\n",
        "  # expand the dimension (add the channel axis to MNIST and Fashion_MNIST)\n",
        "  if len(x_train.shape) == 3 :\n",
        "    x_train = tf.expand_dims(x_train, -1)\n",
        "    x_test = tf.expand_dims(x_test, -1)\n",
        "\n",
        "  # resize the image\n",
        "  x_train = np.asarray([img_to_array(array_to_img(im, scale=False).resize((64,64))) for im in x_train])\n",
        "  x_test = np.asarray([img_to_array(array_to_img(im, scale=False).resize((64,64))) for im in x_test])\n",
        "\n",
        "  # Convert the labels to their one-hot representation\n",
        "  y_train = to_categorical(y_train)\n",
        "  y_test = to_categorical(y_test)\n",
        "\n",
        "  # Normalise the dataset by mean subtraction\n",
        "  x_train = x_train.astype('float32')\n",
        "  x_test = x_test.astype('float32')\n",
        "  x_train_mean = np.mean(x_train, axis=0)\n",
        "  x_train -= x_train_mean\n",
        "  x_test -= x_train_mean\n",
        "\n",
        "  return x_train, y_train, x_test, y_test"
      ],
      "execution_count": 0,
      "outputs": []
    },
    {
      "cell_type": "markdown",
      "metadata": {
        "id": "HbTM3BmEFyyI",
        "colab_type": "text"
      },
      "source": [
        "This method is used to visualize the first 4 fail cases and success cases  of the prediction."
      ]
    },
    {
      "cell_type": "code",
      "metadata": {
        "id": "mOh0jHyqi7lg",
        "colab_type": "code",
        "colab": {}
      },
      "source": [
        "def visualize(pred_labels, test_labels, test_images, dataset_name):\n",
        "  # list to store the index of the success cases and fail cases\n",
        "  success_cases = []\n",
        "  fail_cases = []\n",
        "  for i in range(len(test_labels)):\n",
        "    if test_labels[i].argmax() == pred_labels[i].argmax() and len(success_cases)<5:\n",
        "      success_cases.append(i)\n",
        "    elif test_labels[i].argmax() != pred_labels[i].argmax() and len(fail_cases)<5:\n",
        "      fail_cases.append(i)\n",
        "    if len(success_cases) == 4 and len(fail_cases) == 4:\n",
        "      break\n",
        "  \n",
        "  # cmap = gray from MNIST and fashion_mnist\n",
        "  if len(test_images[0].shape) == 2:\n",
        "    cmap = 'gray'\n",
        "  else:\n",
        "    cmap = None\n",
        "\n",
        "  # plotting the success cases\n",
        "  fig, ax = plt.subplots(nrows=2, ncols=2)\n",
        "  for row in ax:\n",
        "    for col in row:\n",
        "        col.imshow(test_images[success_cases.pop(0)], interpolation='nearest', cmap=cmap)\n",
        "  fig.suptitle('Success Cases of alexnet on ' + dataset_name)\n",
        "  plt.show()\n",
        "\n",
        "  # plotting the fail cases\n",
        "  fig, ax = plt.subplots(nrows=2, ncols=2)\n",
        "  for row in ax:\n",
        "    for col in row:\n",
        "        col.imshow(test_images[fail_cases.pop(0)], interpolation='nearest', cmap=cmap)\n",
        "  fig.suptitle('Fail Cases of alexnet on ' + dataset_name)\n",
        "  plt.show()"
      ],
      "execution_count": 0,
      "outputs": []
    },
    {
      "cell_type": "markdown",
      "metadata": {
        "id": "Z-s3KfCCIXZT",
        "colab_type": "text"
      },
      "source": [
        "This method return the alexnet model. It is based on the architecture proposed in the original paper."
      ]
    },
    {
      "cell_type": "code",
      "metadata": {
        "id": "sDfcCpOe0U4r",
        "colab_type": "code",
        "colab": {}
      },
      "source": [
        "def model_alexnet(image_shape, num_category):\n",
        "  model = Sequential()\n",
        "  model.add(Conv2D(filters=96, input_shape=image_shape, kernel_size=(11,11), strides=(4,4), padding='same', activation='relu'))\n",
        "  model.add(MaxPooling2D(pool_size=(2,2), strides=(2,2)))\n",
        "  model.add(Conv2D(filters=256, kernel_size=(5,5), strides=(1,1), padding='same', activation='relu'))\n",
        "  model.add(MaxPooling2D(pool_size=(2,2), strides=(2,2)))\n",
        "  model.add(Conv2D(filters=384, kernel_size=(3,3), strides=(1,1), padding='same', activation='relu'))\n",
        "  model.add(Conv2D(filters=384, kernel_size=(3,3), strides=(1,1), padding='same', activation='relu'))\n",
        "  model.add(Conv2D(filters=256, kernel_size=(3,3), strides=(1,1), padding='same', activation='relu'))\n",
        "  model.add(MaxPooling2D(pool_size=(2,2), strides=(2,2)))\n",
        "  model.add(Flatten())\n",
        "  model.add(Dense(4096, activation='relu', kernel_initializer='he_normal'))\n",
        "  model.add(Dropout(0.3))\n",
        "  model.add(Dense(4096, activation='relu', kernel_initializer='he_normal'))\n",
        "  model.add(Dropout(0.3))\n",
        "  model.add(Dense(units=num_category, activation=\"softmax\", kernel_initializer='he_normal'))\n",
        "  return model"
      ],
      "execution_count": 0,
      "outputs": []
    },
    {
      "cell_type": "markdown",
      "metadata": {
        "id": "o2AvEx0MCQSR",
        "colab_type": "text"
      },
      "source": [
        "Load the dataset from the following options: 'mnist', 'fashion_mnist' and 'cifar-10'"
      ]
    },
    {
      "cell_type": "code",
      "metadata": {
        "id": "5Lj178oxRuyU",
        "colab_type": "code",
        "outputId": "da069a2d-0c02-45aa-9e6b-174af80944d1",
        "colab": {
          "base_uri": "https://localhost:8080/",
          "height": 51
        }
      },
      "source": [
        "dataset_name = 'mnist'\n",
        "(train_img, train_lbl), (test_img, test_lbl) = load_dataset(dataset_name)"
      ],
      "execution_count": 0,
      "outputs": [
        {
          "output_type": "stream",
          "text": [
            "Downloading data from https://storage.googleapis.com/tensorflow/tf-keras-datasets/mnist.npz\n",
            "11493376/11490434 [==============================] - 0s 0us/step\n"
          ],
          "name": "stdout"
        }
      ]
    },
    {
      "cell_type": "markdown",
      "metadata": {
        "id": "ZvArdu22CgNQ",
        "colab_type": "text"
      },
      "source": [
        "Preprocess the dataset and get the train_images, train_labels, test_images and test_labels. "
      ]
    },
    {
      "cell_type": "code",
      "metadata": {
        "id": "meSCyIRUCS67",
        "colab_type": "code",
        "colab": {}
      },
      "source": [
        "train_images, train_labels, test_images, test_labels = preprocess_dataset(train_img, train_lbl, test_img, test_lbl)"
      ],
      "execution_count": 0,
      "outputs": []
    },
    {
      "cell_type": "markdown",
      "metadata": {
        "id": "GhAfPZueDo2U",
        "colab_type": "text"
      },
      "source": [
        "Augment data for training if augment_data is set to True. "
      ]
    },
    {
      "cell_type": "code",
      "metadata": {
        "id": "YwsVH3IAfo8I",
        "colab_type": "code",
        "colab": {}
      },
      "source": [
        "augment_data = True\n",
        "batch_size = 128\n",
        "validation_percent = 0.1\n",
        "epochs = 100\n",
        "if augment_data:\n",
        "  datagen = ImageDataGenerator(\n",
        "      width_shift_range=0.1,\n",
        "      height_shift_range=0.1,\n",
        "      horizontal_flip=True,\n",
        "      rotation_range=0,\n",
        "      fill_mode='nearest',\n",
        "      validation_split=validation_percent\n",
        "  )\n",
        "  train_iterator = datagen.flow(train_images, train_labels, batch_size=batch_size, subset='training')\n",
        "  validation_iterator = datagen.flow(train_images, train_labels, batch_size=batch_size, subset='validation')"
      ],
      "execution_count": 0,
      "outputs": []
    },
    {
      "cell_type": "markdown",
      "metadata": {
        "id": "NnrRLl7uD0x9",
        "colab_type": "text"
      },
      "source": [
        "Create the model. Using adam optimiser (instead of the original SGD optimiser) with categorical_crossentropy as loss function for multiclass classification."
      ]
    },
    {
      "cell_type": "code",
      "metadata": {
        "id": "HlBz2QbjEvUB",
        "colab_type": "code",
        "outputId": "ec244682-7866-4dff-8462-37040e4245a4",
        "colab": {
          "base_uri": "https://localhost:8080/",
          "height": 641
        }
      },
      "source": [
        "alexnet = model_alexnet(image_shape = train_images[0].shape, num_category = len(train_labels[0]))\n",
        "alexnet.compile(optimizer='adam', loss=\"categorical_crossentropy\", metrics=['accuracy'])\n",
        "alexnet.summary()"
      ],
      "execution_count": 0,
      "outputs": [
        {
          "output_type": "stream",
          "text": [
            "Model: \"sequential_4\"\n",
            "_________________________________________________________________\n",
            "Layer (type)                 Output Shape              Param #   \n",
            "=================================================================\n",
            "conv2d_20 (Conv2D)           (None, 16, 16, 96)        11712     \n",
            "_________________________________________________________________\n",
            "max_pooling2d_12 (MaxPooling (None, 8, 8, 96)          0         \n",
            "_________________________________________________________________\n",
            "conv2d_21 (Conv2D)           (None, 8, 8, 256)         614656    \n",
            "_________________________________________________________________\n",
            "max_pooling2d_13 (MaxPooling (None, 4, 4, 256)         0         \n",
            "_________________________________________________________________\n",
            "conv2d_22 (Conv2D)           (None, 4, 4, 384)         885120    \n",
            "_________________________________________________________________\n",
            "conv2d_23 (Conv2D)           (None, 4, 4, 384)         1327488   \n",
            "_________________________________________________________________\n",
            "conv2d_24 (Conv2D)           (None, 4, 4, 256)         884992    \n",
            "_________________________________________________________________\n",
            "max_pooling2d_14 (MaxPooling (None, 2, 2, 256)         0         \n",
            "_________________________________________________________________\n",
            "flatten_4 (Flatten)          (None, 1024)              0         \n",
            "_________________________________________________________________\n",
            "dense_12 (Dense)             (None, 4096)              4198400   \n",
            "_________________________________________________________________\n",
            "dropout_13 (Dropout)         (None, 4096)              0         \n",
            "_________________________________________________________________\n",
            "dense_13 (Dense)             (None, 4096)              16781312  \n",
            "_________________________________________________________________\n",
            "dropout_14 (Dropout)         (None, 4096)              0         \n",
            "_________________________________________________________________\n",
            "dense_14 (Dense)             (None, 10)                40970     \n",
            "=================================================================\n",
            "Total params: 24,744,650\n",
            "Trainable params: 24,744,650\n",
            "Non-trainable params: 0\n",
            "_________________________________________________________________\n"
          ],
          "name": "stdout"
        }
      ]
    },
    {
      "cell_type": "markdown",
      "metadata": {
        "id": "1Dio8wvDEJ1T",
        "colab_type": "text"
      },
      "source": [
        "Train the model with two callbacks. One of the callback is for reducing the learning rate when the val_loss starts to plateau. The other callback is for stopping early if the val_loss doesn't change over a few epochs. The early stopping callback restores the best weights found. "
      ]
    },
    {
      "cell_type": "code",
      "metadata": {
        "id": "udLCUiSIZQNv",
        "colab_type": "code",
        "outputId": "01108471-da84-44fd-8010-0b48308e9d5e",
        "colab": {
          "base_uri": "https://localhost:8080/",
          "height": 1000
        }
      },
      "source": [
        "reduce_lr = ReduceLROnPlateau(monitor='val_loss', factor=np.sqrt(0.1), patience=3, min_lr=0.5e-6)\n",
        "early_stop = EarlyStopping(monitor='val_loss', patience=10, verbose=1, restore_best_weights=True)\n",
        "if augment_data:\n",
        "  history = alexnet.fit(train_iterator, epochs=epochs, steps_per_epoch=len(train_iterator), \n",
        "                                validation_data=validation_iterator, validation_steps=len(validation_iterator), \n",
        "                                callbacks=[reduce_lr, early_stop])\n",
        "else:\n",
        "  history = alexnet.fit(x=train_images, y=train_labels, epochs=epochs, batch_size=batch_size, \n",
        "                      validation_split=validation_percent,\n",
        "                      callbacks=[reduce_lr, early_stop])"
      ],
      "execution_count": 0,
      "outputs": [
        {
          "output_type": "stream",
          "text": [
            "Epoch 1/100\n",
            "422/422 [==============================] - 27s 63ms/step - loss: 1.0190 - accuracy: 0.8011 - val_loss: 0.2221 - val_accuracy: 0.9320 - lr: 0.0010\n",
            "Epoch 2/100\n",
            "422/422 [==============================] - 27s 64ms/step - loss: 0.1807 - accuracy: 0.9456 - val_loss: 0.1465 - val_accuracy: 0.9558 - lr: 0.0010\n",
            "Epoch 3/100\n",
            "422/422 [==============================] - 27s 63ms/step - loss: 0.1436 - accuracy: 0.9584 - val_loss: 0.1033 - val_accuracy: 0.9695 - lr: 0.0010\n",
            "Epoch 4/100\n",
            "422/422 [==============================] - 27s 64ms/step - loss: 0.1297 - accuracy: 0.9634 - val_loss: 0.1355 - val_accuracy: 0.9600 - lr: 0.0010\n",
            "Epoch 5/100\n",
            "422/422 [==============================] - 27s 64ms/step - loss: 0.1229 - accuracy: 0.9656 - val_loss: 0.1146 - val_accuracy: 0.9698 - lr: 0.0010\n",
            "Epoch 6/100\n",
            "422/422 [==============================] - 27s 64ms/step - loss: 0.1212 - accuracy: 0.9671 - val_loss: 0.1146 - val_accuracy: 0.9678 - lr: 0.0010\n",
            "Epoch 7/100\n",
            "422/422 [==============================] - 27s 63ms/step - loss: 0.0586 - accuracy: 0.9824 - val_loss: 0.0576 - val_accuracy: 0.9853 - lr: 3.1623e-04\n",
            "Epoch 8/100\n",
            "422/422 [==============================] - 27s 64ms/step - loss: 0.0491 - accuracy: 0.9858 - val_loss: 0.0449 - val_accuracy: 0.9877 - lr: 3.1623e-04\n",
            "Epoch 9/100\n",
            "422/422 [==============================] - 27s 63ms/step - loss: 0.0490 - accuracy: 0.9854 - val_loss: 0.0466 - val_accuracy: 0.9852 - lr: 3.1623e-04\n",
            "Epoch 10/100\n",
            "422/422 [==============================] - 26s 63ms/step - loss: 0.0478 - accuracy: 0.9860 - val_loss: 0.0535 - val_accuracy: 0.9865 - lr: 3.1623e-04\n",
            "Epoch 11/100\n",
            "422/422 [==============================] - 27s 63ms/step - loss: 0.0448 - accuracy: 0.9863 - val_loss: 0.0564 - val_accuracy: 0.9852 - lr: 3.1623e-04\n",
            "Epoch 12/100\n",
            "422/422 [==============================] - 27s 63ms/step - loss: 0.0313 - accuracy: 0.9903 - val_loss: 0.0403 - val_accuracy: 0.9895 - lr: 1.0000e-04\n",
            "Epoch 13/100\n",
            "422/422 [==============================] - 26s 63ms/step - loss: 0.0278 - accuracy: 0.9910 - val_loss: 0.0340 - val_accuracy: 0.9905 - lr: 1.0000e-04\n",
            "Epoch 14/100\n",
            "422/422 [==============================] - 27s 63ms/step - loss: 0.0272 - accuracy: 0.9917 - val_loss: 0.0394 - val_accuracy: 0.9883 - lr: 1.0000e-04\n",
            "Epoch 15/100\n",
            "422/422 [==============================] - 27s 63ms/step - loss: 0.0246 - accuracy: 0.9927 - val_loss: 0.0431 - val_accuracy: 0.9887 - lr: 1.0000e-04\n",
            "Epoch 16/100\n",
            "422/422 [==============================] - 27s 63ms/step - loss: 0.0248 - accuracy: 0.9920 - val_loss: 0.0354 - val_accuracy: 0.9890 - lr: 1.0000e-04\n",
            "Epoch 17/100\n",
            "422/422 [==============================] - 27s 65ms/step - loss: 0.0214 - accuracy: 0.9934 - val_loss: 0.0423 - val_accuracy: 0.9887 - lr: 3.1623e-05\n",
            "Epoch 18/100\n",
            "422/422 [==============================] - 27s 65ms/step - loss: 0.0205 - accuracy: 0.9939 - val_loss: 0.0284 - val_accuracy: 0.9912 - lr: 3.1623e-05\n",
            "Epoch 19/100\n",
            "422/422 [==============================] - 27s 64ms/step - loss: 0.0198 - accuracy: 0.9939 - val_loss: 0.0384 - val_accuracy: 0.9895 - lr: 3.1623e-05\n",
            "Epoch 20/100\n",
            "422/422 [==============================] - 27s 64ms/step - loss: 0.0186 - accuracy: 0.9938 - val_loss: 0.0361 - val_accuracy: 0.9912 - lr: 3.1623e-05\n",
            "Epoch 21/100\n",
            "422/422 [==============================] - 27s 64ms/step - loss: 0.0180 - accuracy: 0.9943 - val_loss: 0.0317 - val_accuracy: 0.9902 - lr: 3.1623e-05\n",
            "Epoch 22/100\n",
            "422/422 [==============================] - 27s 64ms/step - loss: 0.0151 - accuracy: 0.9951 - val_loss: 0.0327 - val_accuracy: 0.9887 - lr: 1.0000e-05\n",
            "Epoch 23/100\n",
            "422/422 [==============================] - 27s 64ms/step - loss: 0.0165 - accuracy: 0.9946 - val_loss: 0.0327 - val_accuracy: 0.9913 - lr: 1.0000e-05\n",
            "Epoch 24/100\n",
            "422/422 [==============================] - 27s 64ms/step - loss: 0.0162 - accuracy: 0.9946 - val_loss: 0.0331 - val_accuracy: 0.9903 - lr: 1.0000e-05\n",
            "Epoch 25/100\n",
            "422/422 [==============================] - 27s 63ms/step - loss: 0.0159 - accuracy: 0.9949 - val_loss: 0.0429 - val_accuracy: 0.9890 - lr: 3.1623e-06\n",
            "Epoch 26/100\n",
            "422/422 [==============================] - 27s 64ms/step - loss: 0.0149 - accuracy: 0.9954 - val_loss: 0.0367 - val_accuracy: 0.9905 - lr: 3.1623e-06\n",
            "Epoch 27/100\n",
            "422/422 [==============================] - 27s 64ms/step - loss: 0.0151 - accuracy: 0.9955 - val_loss: 0.0317 - val_accuracy: 0.9898 - lr: 3.1623e-06\n",
            "Epoch 28/100\n",
            "421/422 [============================>.] - ETA: 0s - loss: 0.0149 - accuracy: 0.9953Restoring model weights from the end of the best epoch.\n",
            "422/422 [==============================] - 27s 64ms/step - loss: 0.0149 - accuracy: 0.9953 - val_loss: 0.0359 - val_accuracy: 0.9898 - lr: 1.0000e-06\n",
            "Epoch 00028: early stopping\n"
          ],
          "name": "stdout"
        }
      ]
    },
    {
      "cell_type": "markdown",
      "metadata": {
        "id": "vLZr57lNEpmD",
        "colab_type": "text"
      },
      "source": [
        "Plot the accuracy and loss graph over the epochs for training and validation. "
      ]
    },
    {
      "cell_type": "code",
      "metadata": {
        "id": "6B7aNj4QgdbJ",
        "colab_type": "code",
        "outputId": "e6e35a38-751a-48f2-e80a-9a336e3f823a",
        "colab": {
          "base_uri": "https://localhost:8080/",
          "height": 573
        }
      },
      "source": [
        "# summarize history for accuracy\n",
        "plt.plot(history.history['accuracy'])\n",
        "plt.plot(history.history['val_accuracy'])\n",
        "plt.title('model accuracy of alexnet on ' + dataset_name)\n",
        "plt.ylabel('accuracy')\n",
        "plt.xlabel('epoch')\n",
        "plt.legend(['train', 'test'], loc='upper left')\n",
        "plt.show()\n",
        "# summarize history for loss\n",
        "plt.plot(history.history['loss'])\n",
        "plt.plot(history.history['val_loss'])\n",
        "plt.title('model loss of alexnet on ' + dataset_name)\n",
        "plt.ylabel('loss')\n",
        "plt.xlabel('epoch')\n",
        "plt.legend(['train', 'test'], loc='upper left')\n",
        "plt.show()"
      ],
      "execution_count": 0,
      "outputs": [
        {
          "output_type": "display_data",
          "data": {
            "image/png": "[encoded data removed]",
            "text/plain": [
              "<Figure size 432x288 with 1 Axes>"
            ]
          },
          "metadata": {
            "tags": [],
            "needs_background": "light"
          }
        },
        {
          "output_type": "display_data",
          "data": {
            "image/png": "[encoded data removed]",
            "text/plain": [
              "<Figure size 432x288 with 1 Axes>"
            ]
          },
          "metadata": {
            "tags": [],
            "needs_background": "light"
          }
        }
      ]
    },
    {
      "cell_type": "markdown",
      "metadata": {
        "id": "Ze_fbdy3EzSG",
        "colab_type": "text"
      },
      "source": [
        "Evaluate the model performance on the test set."
      ]
    },
    {
      "cell_type": "code",
      "metadata": {
        "id": "_cKVpkKCc9ri",
        "colab_type": "code",
        "outputId": "64e6883e-ad16-49a3-ea9e-8c38d8da0ef4",
        "colab": {
          "base_uri": "https://localhost:8080/",
          "height": 34
        }
      },
      "source": [
        "eval = alexnet.evaluate(test_images, test_labels, batch_size=batch_size)"
      ],
      "execution_count": 0,
      "outputs": [
        {
          "output_type": "stream",
          "text": [
            "79/79 [==============================] - 1s 9ms/step - loss: 0.0244 - accuracy: 0.9922\n"
          ],
          "name": "stdout"
        }
      ]
    },
    {
      "cell_type": "markdown",
      "metadata": {
        "id": "E4GbB4_oE6Iv",
        "colab_type": "text"
      },
      "source": [
        "Create predictions for the test set"
      ]
    },
    {
      "cell_type": "code",
      "metadata": {
        "id": "qxXzJLV7g8va",
        "colab_type": "code",
        "colab": {}
      },
      "source": [
        "predictions = alexnet.predict(test_images, batch_size=batch_size)"
      ],
      "execution_count": 0,
      "outputs": []
    },
    {
      "cell_type": "markdown",
      "metadata": {
        "id": "LJLleGNUFKjk",
        "colab_type": "text"
      },
      "source": [
        "Visualize the some examples of the success and fail cases for the model on the test set."
      ]
    },
    {
      "cell_type": "code",
      "metadata": {
        "id": "lFOoK6RNlwKw",
        "colab_type": "code",
        "outputId": "f89ddfe3-96b7-41c1-88a1-c285a98a2557",
        "colab": {
          "base_uri": "https://localhost:8080/",
          "height": 571
        }
      },
      "source": [
        "visualize(predictions, test_labels, test_img, dataset_name)"
      ],
      "execution_count": 0,
      "outputs": [
        {
          "output_type": "display_data",
          "data": {
            "image/png": "[encoded data removed]",
            "text/plain": [
              "<Figure size 432x288 with 4 Axes>"
            ]
          },
          "metadata": {
            "tags": [],
            "needs_background": "light"
          }
        },
        {
          "output_type": "display_data",
          "data": {
            "image/png": "[encoded data removed]",
            "text/plain": [
              "<Figure size 432x288 with 4 Axes>"
            ]
          },
          "metadata": {
            "tags": [],
            "needs_background": "light"
          }
        }
      ]
    }
  ]
}