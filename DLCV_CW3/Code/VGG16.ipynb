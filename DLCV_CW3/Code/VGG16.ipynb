{
  "nbformat": 4,
  "nbformat_minor": 0,
  "metadata": {
    "colab": {
      "name": "VGG16.ipynb",
      "provenance": [],
      "collapsed_sections": []
    },
    "kernelspec": {
      "name": "python3",
      "display_name": "Python 3"
    }
  },
  "cells": [
    {
      "cell_type": "markdown",
      "metadata": {
        "id": "vBUFvBvQ82NW",
        "colab_type": "text"
      },
      "source": [
        "Necessary imports"
      ]
    },
    {
      "cell_type": "code",
      "metadata": {
        "id": "qdIOAlwfuUdc",
        "colab_type": "code",
        "outputId": "6f03001e-df35-4548-d035-4c0a6369acad",
        "colab": {
          "base_uri": "https://localhost:8080/",
          "height": 34
        }
      },
      "source": [
        "import tensorflow as tf\n",
        "import tensorflow_datasets as tfds\n",
        "from tensorflow.keras.utils import to_categorical\n",
        "import matplotlib.pyplot as plt\n",
        "import numpy as np\n",
        "from tensorflow.keras.preprocessing.image import img_to_array, array_to_img, ImageDataGenerator\n",
        "from tensorflow.keras.callbacks import EarlyStopping, ReduceLROnPlateau\n",
        "from keras.regularizers import l2"
      ],
      "execution_count": 0,
      "outputs": [
        {
          "output_type": "stream",
          "text": [
            "Using TensorFlow backend.\n"
          ],
          "name": "stderr"
        }
      ]
    },
    {
      "cell_type": "code",
      "metadata": {
        "id": "C7jC1C3gAv5W",
        "colab_type": "code",
        "colab": {}
      },
      "source": [
        "from tensorflow.keras.layers import Conv2D, MaxPooling2D, Flatten, Dense, Input, BatchNormalization, Add, Activation, AveragePooling2D, Dropout\n",
        "from tensorflow.keras.models import Sequential, Model\n",
        "from tensorflow.keras.optimizers import Adam, SGD\n",
        "from tensorflow.keras.losses import categorical_crossentropy"
      ],
      "execution_count": 0,
      "outputs": []
    },
    {
      "cell_type": "markdown",
      "metadata": {
        "id": "fmyBivbJA67U",
        "colab_type": "text"
      },
      "source": [
        "Method to load datasets based on their name. This method can load one of the three datasets namely, MNIST, Fashion_MNIST and Cifar-10."
      ]
    },
    {
      "cell_type": "code",
      "metadata": {
        "id": "WbMRurIC8yIy",
        "colab_type": "code",
        "colab": {}
      },
      "source": [
        "def load_dataset(dataset):\n",
        "  if dataset == 'mnist':\n",
        "    return tf.keras.datasets.mnist.load_data()\n",
        "  elif dataset == 'fashion_mnist':\n",
        "    return tf.keras.datasets.fashion_mnist.load_data()\n",
        "  elif dataset == 'cifar-10':\n",
        "    return tf.keras.datasets.cifar10.load_data()\n",
        "  else:\n",
        "    return -1"
      ],
      "execution_count": 0,
      "outputs": []
    },
    {
      "cell_type": "markdown",
      "metadata": {
        "id": "WbNqX98pBg1q",
        "colab_type": "text"
      },
      "source": [
        "This method preprocesses the dataset. It increases the size of the image to 64x64 and normalises the dataset by mean subtraction. The labels are converted to one hot representation. "
      ]
    },
    {
      "cell_type": "code",
      "metadata": {
        "id": "y_dg1YKsv34f",
        "colab_type": "code",
        "colab": {}
      },
      "source": [
        "def preprocess_dataset(x_train, y_train, x_test, y_test):\n",
        "  # expand the dimension (add the channel axis to MNIST and Fashion_MNIST)\n",
        "  if len(x_train.shape) == 3 :\n",
        "    x_train = tf.expand_dims(x_train, -1)\n",
        "    x_test = tf.expand_dims(x_test, -1)\n",
        "    \n",
        "  # resize the image\n",
        "  x_train = np.asarray([img_to_array(array_to_img(im, scale=False).resize((64,64))) for im in x_train])\n",
        "  x_test = np.asarray([img_to_array(array_to_img(im, scale=False).resize((64,64))) for im in x_test])\n",
        "\n",
        "  # Convert the labels to their one-hot representation\n",
        "  y_train = to_categorical(y_train)\n",
        "  y_test = to_categorical(y_test)\n",
        "\n",
        "  # Normalise the dataset by mean subtraction\n",
        "  x_train = x_train.astype('float32')\n",
        "  x_test = x_test.astype('float32')\n",
        "  x_train_mean = np.mean(x_train, axis=0)\n",
        "  x_train -= x_train_mean\n",
        "  x_test -= x_train_mean\n",
        "\n",
        "  return x_train, y_train, x_test, y_test"
      ],
      "execution_count": 0,
      "outputs": []
    },
    {
      "cell_type": "markdown",
      "metadata": {
        "id": "lNivNnI4CIw0",
        "colab_type": "text"
      },
      "source": [
        "This method is used to visualize the first 4 fail cases and success cases  of the prediction."
      ]
    },
    {
      "cell_type": "code",
      "metadata": {
        "id": "mOh0jHyqi7lg",
        "colab_type": "code",
        "colab": {}
      },
      "source": [
        "def visualize(pred_labels, test_labels, test_images, dataset_name):\n",
        "  # list to store the index of the success cases and fail cases\n",
        "  success_cases = []\n",
        "  fail_cases = []\n",
        "  for i in range(len(test_labels)):\n",
        "    if test_labels[i].argmax() == pred_labels[i].argmax() and len(success_cases)<5:\n",
        "      success_cases.append(i)\n",
        "    elif test_labels[i].argmax() != pred_labels[i].argmax() and len(fail_cases)<5:\n",
        "      fail_cases.append(i)\n",
        "    if len(success_cases) == 4 and len(fail_cases) == 4:\n",
        "      break\n",
        "  \n",
        "  # cmap = gray from MNIST and fashion_mnist\n",
        "  if len(test_images[0].shape) == 2:\n",
        "    cmap = 'gray'\n",
        "  else:\n",
        "    cmap = None\n",
        "  \n",
        "  # plotting the success cases\n",
        "  fig, ax = plt.subplots(nrows=2, ncols=2)\n",
        "  for row in ax:\n",
        "    for col in row:\n",
        "        col.imshow(test_images[success_cases.pop(0)], interpolation='nearest', cmap=cmap)\n",
        "  fig.suptitle('Success Cases of vgg16 on ' + dataset_name)\n",
        "  plt.show()\n",
        "\n",
        "  # plotting the fail cases\n",
        "  fig, ax = plt.subplots(nrows=2, ncols=2)\n",
        "  for row in ax:\n",
        "    for col in row:\n",
        "        col.imshow(test_images[fail_cases.pop(0)], interpolation='nearest', cmap=cmap)\n",
        "  fig.suptitle('Fail Cases of vgg16 on ' + dataset_name)\n",
        "  plt.show()"
      ],
      "execution_count": 0,
      "outputs": []
    },
    {
      "cell_type": "markdown",
      "metadata": {
        "id": "4am3f5oaIqAL",
        "colab_type": "text"
      },
      "source": [
        "This method return the vgg16 model. It is based on the architecture proposed in the original paper."
      ]
    },
    {
      "cell_type": "code",
      "metadata": {
        "id": "sDfcCpOe0U4r",
        "colab_type": "code",
        "colab": {}
      },
      "source": [
        "def model_vgg16(image_shape, num_category):\n",
        "  # number of filters\n",
        "  filters = [64, 128, 256, 512, 512]\n",
        "  # number of conv layers\n",
        "  layers = [2, 2, 3, 3, 3]\n",
        "  # using tf.keras sequential API\n",
        "  model = Sequential()\n",
        "  model.add(Input(shape=image_shape))\n",
        "  for l in layers:\n",
        "    f = filters.pop(0)\n",
        "    for _ in range(l):\n",
        "      model.add(Conv2D(filters=f,kernel_size=(3,3),padding=\"same\", activation=\"relu\", kernel_initializer='he_normal',kernel_regularizer=l2(1e-4)))\n",
        "    model.add(MaxPooling2D(pool_size=(2,2),strides=(2,2)))\n",
        "  model.add(Flatten())\n",
        "  model.add(Dense(units=4096,activation=\"relu\", kernel_initializer='he_normal'))\n",
        "  model.add(Dropout(0.3))\n",
        "  model.add(Dense(units=4096,activation=\"relu\", kernel_initializer='he_normal'))\n",
        "  model.add(Dropout(0.3))\n",
        "  model.add(Dense(units=num_category, activation=\"softmax\", kernel_initializer='he_normal'))\n",
        "  return model"
      ],
      "execution_count": 0,
      "outputs": []
    },
    {
      "cell_type": "markdown",
      "metadata": {
        "id": "nudDd3O7Cc3-",
        "colab_type": "text"
      },
      "source": [
        "Load the dataset from the following options: 'mnist', 'fashion_mnist' and 'cifar-10'"
      ]
    },
    {
      "cell_type": "code",
      "metadata": {
        "id": "5Lj178oxRuyU",
        "colab_type": "code",
        "colab": {}
      },
      "source": [
        "dataset_name = 'mnist'\n",
        "(train_img, train_lbl), (test_img, test_lbl) = load_dataset(dataset_name)"
      ],
      "execution_count": 0,
      "outputs": []
    },
    {
      "cell_type": "markdown",
      "metadata": {
        "id": "EkAa6oO3Dlmw",
        "colab_type": "text"
      },
      "source": [
        "Preprocess the dataset and get the train_images, train_labels, test_images and test_labels. "
      ]
    },
    {
      "cell_type": "code",
      "metadata": {
        "id": "meSCyIRUCS67",
        "colab_type": "code",
        "colab": {}
      },
      "source": [
        "train_images, train_labels, test_images, test_labels = preprocess_dataset(train_img, train_lbl, test_img, test_lbl)"
      ],
      "execution_count": 0,
      "outputs": []
    },
    {
      "cell_type": "markdown",
      "metadata": {
        "id": "U1YEVfhNDyVf",
        "colab_type": "text"
      },
      "source": [
        "Augment data for training if augment_data is set to True. "
      ]
    },
    {
      "cell_type": "code",
      "metadata": {
        "id": "YwsVH3IAfo8I",
        "colab_type": "code",
        "colab": {}
      },
      "source": [
        "augment_data = True\n",
        "batch_size = 128\n",
        "validation_percent = 0.1\n",
        "epochs = 100\n",
        "if augment_data:\n",
        "  datagen = ImageDataGenerator(\n",
        "      width_shift_range=0.1,\n",
        "      height_shift_range=0.1,\n",
        "      horizontal_flip=True,\n",
        "      rotation_range=0,\n",
        "      fill_mode='nearest',\n",
        "      validation_split=validation_percent\n",
        "  )\n",
        "  train_iterator = datagen.flow(train_images, train_labels, batch_size=batch_size, subset='training')\n",
        "  validation_iterator = datagen.flow(train_images, train_labels, batch_size=batch_size, subset='validation')"
      ],
      "execution_count": 0,
      "outputs": []
    },
    {
      "cell_type": "markdown",
      "metadata": {
        "id": "qu8xE5IJEGC6",
        "colab_type": "text"
      },
      "source": [
        "Create the model. Using adam optimiser (instead of the original SGD optimiser) with categorical_crossentropy as loss function for multiclass classification."
      ]
    },
    {
      "cell_type": "code",
      "metadata": {
        "id": "HlBz2QbjEvUB",
        "colab_type": "code",
        "outputId": "03bd8ad7-95e5-4f56-e787-71f4ba3d19f0",
        "colab": {
          "base_uri": "https://localhost:8080/",
          "height": 987
        }
      },
      "source": [
        "vgg16 = model_vgg16(image_shape = train_images[0].shape, num_category = len(train_labels[0]))\n",
        "vgg16.compile(optimizer='adam', loss=\"categorical_crossentropy\", metrics=['accuracy'])\n",
        "vgg16.summary()"
      ],
      "execution_count": 0,
      "outputs": [
        {
          "output_type": "stream",
          "text": [
            "Model: \"sequential\"\n",
            "_________________________________________________________________\n",
            "Layer (type)                 Output Shape              Param #   \n",
            "=================================================================\n",
            "conv2d (Conv2D)              (None, 64, 64, 64)        640       \n",
            "_________________________________________________________________\n",
            "conv2d_1 (Conv2D)            (None, 64, 64, 64)        36928     \n",
            "_________________________________________________________________\n",
            "max_pooling2d (MaxPooling2D) (None, 32, 32, 64)        0         \n",
            "_________________________________________________________________\n",
            "conv2d_2 (Conv2D)            (None, 32, 32, 128)       73856     \n",
            "_________________________________________________________________\n",
            "conv2d_3 (Conv2D)            (None, 32, 32, 128)       147584    \n",
            "_________________________________________________________________\n",
            "max_pooling2d_1 (MaxPooling2 (None, 16, 16, 128)       0         \n",
            "_________________________________________________________________\n",
            "conv2d_4 (Conv2D)            (None, 16, 16, 256)       295168    \n",
            "_________________________________________________________________\n",
            "conv2d_5 (Conv2D)            (None, 16, 16, 256)       590080    \n",
            "_________________________________________________________________\n",
            "conv2d_6 (Conv2D)            (None, 16, 16, 256)       590080    \n",
            "_________________________________________________________________\n",
            "max_pooling2d_2 (MaxPooling2 (None, 8, 8, 256)         0         \n",
            "_________________________________________________________________\n",
            "conv2d_7 (Conv2D)            (None, 8, 8, 512)         1180160   \n",
            "_________________________________________________________________\n",
            "conv2d_8 (Conv2D)            (None, 8, 8, 512)         2359808   \n",
            "_________________________________________________________________\n",
            "conv2d_9 (Conv2D)            (None, 8, 8, 512)         2359808   \n",
            "_________________________________________________________________\n",
            "max_pooling2d_3 (MaxPooling2 (None, 4, 4, 512)         0         \n",
            "_________________________________________________________________\n",
            "conv2d_10 (Conv2D)           (None, 4, 4, 512)         2359808   \n",
            "_________________________________________________________________\n",
            "conv2d_11 (Conv2D)           (None, 4, 4, 512)         2359808   \n",
            "_________________________________________________________________\n",
            "conv2d_12 (Conv2D)           (None, 4, 4, 512)         2359808   \n",
            "_________________________________________________________________\n",
            "max_pooling2d_4 (MaxPooling2 (None, 2, 2, 512)         0         \n",
            "_________________________________________________________________\n",
            "flatten (Flatten)            (None, 2048)              0         \n",
            "_________________________________________________________________\n",
            "dense (Dense)                (None, 4096)              8392704   \n",
            "_________________________________________________________________\n",
            "dropout (Dropout)            (None, 4096)              0         \n",
            "_________________________________________________________________\n",
            "dense_1 (Dense)              (None, 4096)              16781312  \n",
            "_________________________________________________________________\n",
            "dropout_1 (Dropout)          (None, 4096)              0         \n",
            "_________________________________________________________________\n",
            "dense_2 (Dense)              (None, 10)                40970     \n",
            "=================================================================\n",
            "Total params: 39,928,522\n",
            "Trainable params: 39,928,522\n",
            "Non-trainable params: 0\n",
            "_________________________________________________________________\n"
          ],
          "name": "stdout"
        }
      ]
    },
    {
      "cell_type": "markdown",
      "metadata": {
        "id": "s4OgXtgFElkm",
        "colab_type": "text"
      },
      "source": [
        "Train the model with two callbacks. One of the callback is for reducing the learning rate when the val_loss starts to plateau. The other callback is for stopping early if the val_loss doesn't change over a few epochs. The early stopping callback restores the best weights found. "
      ]
    },
    {
      "cell_type": "code",
      "metadata": {
        "id": "udLCUiSIZQNv",
        "colab_type": "code",
        "outputId": "5995e651-349e-428f-d436-83f60177e5e9",
        "colab": {
          "base_uri": "https://localhost:8080/",
          "height": 1000
        }
      },
      "source": [
        "reduce_lr = ReduceLROnPlateau(monitor='val_loss', factor=np.sqrt(0.1), patience=3, min_lr=0.5e-6)\n",
        "early_stop = EarlyStopping(monitor='val_loss', patience=10, verbose=1, restore_best_weights=True)\n",
        "if augment_data:\n",
        "  history = vgg16.fit(train_iterator, epochs=epochs, steps_per_epoch=len(train_iterator), \n",
        "                                validation_data=validation_iterator, validation_steps=len(validation_iterator), \n",
        "                                callbacks=[reduce_lr, early_stop])\n",
        "else:\n",
        "  history = vgg16.fit(x=train_images, y=train_labels, epochs=epochs, batch_size=batch_size, \n",
        "                      validation_split=validation_percent,\n",
        "                      callbacks=[reduce_lr, early_stop])"
      ],
      "execution_count": 0,
      "outputs": [
        {
          "output_type": "stream",
          "text": [
            "Epoch 1/100\n",
            "422/422 [==============================] - 89s 210ms/step - loss: 18.0898 - accuracy: 0.6998 - val_loss: 1.0698 - val_accuracy: 0.9325 - lr: 0.0010\n",
            "Epoch 2/100\n",
            "422/422 [==============================] - 88s 208ms/step - loss: 1.0091 - accuracy: 0.9496 - val_loss: 0.9432 - val_accuracy: 0.9657 - lr: 0.0010\n",
            "Epoch 3/100\n",
            "422/422 [==============================] - 88s 209ms/step - loss: 0.9325 - accuracy: 0.9661 - val_loss: 0.8926 - val_accuracy: 0.9743 - lr: 0.0010\n",
            "Epoch 4/100\n",
            "422/422 [==============================] - 88s 209ms/step - loss: 0.8893 - accuracy: 0.9719 - val_loss: 0.8677 - val_accuracy: 0.9740 - lr: 0.0010\n",
            "Epoch 5/100\n",
            "422/422 [==============================] - 88s 208ms/step - loss: 0.8517 - accuracy: 0.9763 - val_loss: 0.8413 - val_accuracy: 0.9760 - lr: 0.0010\n",
            "Epoch 6/100\n",
            "422/422 [==============================] - 88s 209ms/step - loss: 0.8229 - accuracy: 0.9770 - val_loss: 0.8207 - val_accuracy: 0.9745 - lr: 0.0010\n",
            "Epoch 7/100\n",
            "422/422 [==============================] - 88s 209ms/step - loss: 0.7947 - accuracy: 0.9788 - val_loss: 0.7803 - val_accuracy: 0.9792 - lr: 0.0010\n",
            "Epoch 8/100\n",
            "422/422 [==============================] - 88s 208ms/step - loss: 0.7667 - accuracy: 0.9796 - val_loss: 0.7923 - val_accuracy: 0.9700 - lr: 0.0010\n",
            "Epoch 9/100\n",
            "422/422 [==============================] - 88s 208ms/step - loss: 0.7369 - accuracy: 0.9819 - val_loss: 0.7341 - val_accuracy: 0.9790 - lr: 0.0010\n",
            "Epoch 10/100\n",
            "422/422 [==============================] - 88s 209ms/step - loss: 0.7077 - accuracy: 0.9819 - val_loss: 0.6951 - val_accuracy: 0.9827 - lr: 0.0010\n",
            "Epoch 11/100\n",
            "422/422 [==============================] - 88s 208ms/step - loss: 0.6798 - accuracy: 0.9824 - val_loss: 0.6640 - val_accuracy: 0.9838 - lr: 0.0010\n",
            "Epoch 12/100\n",
            "422/422 [==============================] - 88s 208ms/step - loss: 0.6502 - accuracy: 0.9831 - val_loss: 0.6497 - val_accuracy: 0.9800 - lr: 0.0010\n",
            "Epoch 13/100\n",
            "422/422 [==============================] - 88s 208ms/step - loss: 0.6251 - accuracy: 0.9837 - val_loss: 0.6077 - val_accuracy: 0.9847 - lr: 0.0010\n",
            "Epoch 14/100\n",
            "422/422 [==============================] - 88s 209ms/step - loss: 0.5957 - accuracy: 0.9846 - val_loss: 0.5911 - val_accuracy: 0.9817 - lr: 0.0010\n",
            "Epoch 15/100\n",
            "422/422 [==============================] - 88s 209ms/step - loss: 0.5738 - accuracy: 0.9835 - val_loss: 0.5737 - val_accuracy: 0.9798 - lr: 0.0010\n",
            "Epoch 16/100\n",
            "422/422 [==============================] - 88s 208ms/step - loss: 0.5394 - accuracy: 0.9854 - val_loss: 0.5383 - val_accuracy: 0.9840 - lr: 0.0010\n",
            "Epoch 17/100\n",
            "422/422 [==============================] - 88s 208ms/step - loss: 0.5239 - accuracy: 0.9829 - val_loss: 0.5116 - val_accuracy: 0.9840 - lr: 0.0010\n",
            "Epoch 18/100\n",
            "422/422 [==============================] - 88s 208ms/step - loss: 0.4958 - accuracy: 0.9849 - val_loss: 0.4933 - val_accuracy: 0.9840 - lr: 0.0010\n",
            "Epoch 19/100\n",
            "422/422 [==============================] - 88s 208ms/step - loss: 0.4655 - accuracy: 0.9862 - val_loss: 0.4418 - val_accuracy: 0.9868 - lr: 0.0010\n",
            "Epoch 20/100\n",
            "422/422 [==============================] - 88s 208ms/step - loss: 0.4379 - accuracy: 0.9858 - val_loss: 0.4261 - val_accuracy: 0.9870 - lr: 0.0010\n",
            "Epoch 21/100\n",
            "422/422 [==============================] - 88s 208ms/step - loss: 0.4202 - accuracy: 0.9848 - val_loss: 0.4022 - val_accuracy: 0.9868 - lr: 0.0010\n",
            "Epoch 22/100\n",
            "422/422 [==============================] - 88s 208ms/step - loss: 0.3923 - accuracy: 0.9868 - val_loss: 0.3964 - val_accuracy: 0.9838 - lr: 0.0010\n",
            "Epoch 23/100\n",
            "422/422 [==============================] - 88s 208ms/step - loss: 0.3755 - accuracy: 0.9850 - val_loss: 0.3707 - val_accuracy: 0.9823 - lr: 0.0010\n",
            "Epoch 24/100\n",
            "422/422 [==============================] - 88s 208ms/step - loss: 0.3553 - accuracy: 0.9856 - val_loss: 0.3259 - val_accuracy: 0.9898 - lr: 0.0010\n",
            "Epoch 25/100\n",
            "422/422 [==============================] - 88s 208ms/step - loss: 0.3281 - accuracy: 0.9867 - val_loss: 0.3201 - val_accuracy: 0.9860 - lr: 0.0010\n",
            "Epoch 26/100\n",
            "422/422 [==============================] - 88s 207ms/step - loss: 0.3057 - accuracy: 0.9864 - val_loss: 0.2929 - val_accuracy: 0.9873 - lr: 0.0010\n",
            "Epoch 27/100\n",
            "422/422 [==============================] - 88s 207ms/step - loss: 0.2877 - accuracy: 0.9866 - val_loss: 0.2633 - val_accuracy: 0.9912 - lr: 0.0010\n",
            "Epoch 28/100\n",
            "422/422 [==============================] - 87s 207ms/step - loss: 0.2689 - accuracy: 0.9869 - val_loss: 0.2782 - val_accuracy: 0.9822 - lr: 0.0010\n",
            "Epoch 29/100\n",
            "422/422 [==============================] - 87s 207ms/step - loss: 0.2529 - accuracy: 0.9872 - val_loss: 0.2534 - val_accuracy: 0.9853 - lr: 0.0010\n",
            "Epoch 30/100\n",
            "422/422 [==============================] - 87s 207ms/step - loss: 0.2413 - accuracy: 0.9877 - val_loss: 0.2587 - val_accuracy: 0.9800 - lr: 0.0010\n",
            "Epoch 31/100\n",
            "422/422 [==============================] - 87s 206ms/step - loss: 0.2178 - accuracy: 0.9880 - val_loss: 0.2142 - val_accuracy: 0.9867 - lr: 0.0010\n",
            "Epoch 32/100\n",
            "422/422 [==============================] - 87s 206ms/step - loss: 0.2062 - accuracy: 0.9877 - val_loss: 0.2225 - val_accuracy: 0.9855 - lr: 0.0010\n",
            "Epoch 33/100\n",
            "422/422 [==============================] - 87s 206ms/step - loss: 0.1943 - accuracy: 0.9878 - val_loss: 0.1847 - val_accuracy: 0.9887 - lr: 0.0010\n",
            "Epoch 34/100\n",
            "422/422 [==============================] - 87s 206ms/step - loss: 0.1825 - accuracy: 0.9877 - val_loss: 0.1593 - val_accuracy: 0.9920 - lr: 0.0010\n",
            "Epoch 35/100\n",
            "422/422 [==============================] - 87s 205ms/step - loss: 0.1699 - accuracy: 0.9884 - val_loss: 0.1771 - val_accuracy: 0.9870 - lr: 0.0010\n",
            "Epoch 36/100\n",
            "422/422 [==============================] - 86s 205ms/step - loss: 0.1603 - accuracy: 0.9889 - val_loss: 0.1642 - val_accuracy: 0.9875 - lr: 0.0010\n",
            "Epoch 37/100\n",
            "422/422 [==============================] - 86s 205ms/step - loss: 0.1493 - accuracy: 0.9893 - val_loss: 0.1399 - val_accuracy: 0.9902 - lr: 0.0010\n",
            "Epoch 38/100\n",
            "422/422 [==============================] - 86s 205ms/step - loss: 0.1421 - accuracy: 0.9887 - val_loss: 0.1253 - val_accuracy: 0.9910 - lr: 0.0010\n",
            "Epoch 39/100\n",
            "422/422 [==============================] - 87s 205ms/step - loss: 0.1331 - accuracy: 0.9899 - val_loss: 0.1307 - val_accuracy: 0.9897 - lr: 0.0010\n",
            "Epoch 40/100\n",
            "422/422 [==============================] - 86s 205ms/step - loss: 0.1249 - accuracy: 0.9903 - val_loss: 0.1271 - val_accuracy: 0.9883 - lr: 0.0010\n",
            "Epoch 41/100\n",
            "422/422 [==============================] - 87s 205ms/step - loss: 0.1244 - accuracy: 0.9891 - val_loss: 0.1319 - val_accuracy: 0.9888 - lr: 0.0010\n",
            "Epoch 42/100\n",
            "422/422 [==============================] - 87s 205ms/step - loss: 0.1003 - accuracy: 0.9945 - val_loss: 0.0975 - val_accuracy: 0.9940 - lr: 3.1623e-04\n",
            "Epoch 43/100\n",
            "422/422 [==============================] - 87s 205ms/step - loss: 0.0897 - accuracy: 0.9956 - val_loss: 0.0971 - val_accuracy: 0.9937 - lr: 3.1623e-04\n",
            "Epoch 44/100\n",
            "422/422 [==============================] - 86s 204ms/step - loss: 0.0845 - accuracy: 0.9956 - val_loss: 0.0899 - val_accuracy: 0.9932 - lr: 3.1623e-04\n",
            "Epoch 45/100\n",
            "422/422 [==============================] - 86s 205ms/step - loss: 0.0811 - accuracy: 0.9953 - val_loss: 0.0932 - val_accuracy: 0.9920 - lr: 3.1623e-04\n",
            "Epoch 46/100\n",
            "422/422 [==============================] - 86s 204ms/step - loss: 0.0752 - accuracy: 0.9963 - val_loss: 0.0854 - val_accuracy: 0.9923 - lr: 3.1623e-04\n",
            "Epoch 47/100\n",
            "422/422 [==============================] - 86s 204ms/step - loss: 0.0716 - accuracy: 0.9961 - val_loss: 0.0847 - val_accuracy: 0.9928 - lr: 3.1623e-04\n",
            "Epoch 48/100\n",
            "422/422 [==============================] - 86s 205ms/step - loss: 0.0704 - accuracy: 0.9956 - val_loss: 0.0815 - val_accuracy: 0.9927 - lr: 3.1623e-04\n",
            "Epoch 49/100\n",
            "422/422 [==============================] - 86s 205ms/step - loss: 0.0662 - accuracy: 0.9961 - val_loss: 0.0817 - val_accuracy: 0.9918 - lr: 3.1623e-04\n",
            "Epoch 50/100\n",
            "422/422 [==============================] - 86s 205ms/step - loss: 0.0639 - accuracy: 0.9962 - val_loss: 0.0805 - val_accuracy: 0.9923 - lr: 3.1623e-04\n",
            "Epoch 51/100\n",
            "422/422 [==============================] - 87s 205ms/step - loss: 0.0616 - accuracy: 0.9961 - val_loss: 0.0744 - val_accuracy: 0.9917 - lr: 3.1623e-04\n",
            "Epoch 52/100\n",
            "422/422 [==============================] - 86s 204ms/step - loss: 0.0614 - accuracy: 0.9957 - val_loss: 0.0748 - val_accuracy: 0.9913 - lr: 3.1623e-04\n",
            "Epoch 53/100\n",
            "422/422 [==============================] - 86s 205ms/step - loss: 0.0588 - accuracy: 0.9960 - val_loss: 0.0725 - val_accuracy: 0.9927 - lr: 3.1623e-04\n",
            "Epoch 54/100\n",
            "422/422 [==============================] - 86s 204ms/step - loss: 0.0572 - accuracy: 0.9961 - val_loss: 0.0654 - val_accuracy: 0.9933 - lr: 3.1623e-04\n",
            "Epoch 55/100\n",
            "422/422 [==============================] - 86s 204ms/step - loss: 0.0552 - accuracy: 0.9964 - val_loss: 0.0711 - val_accuracy: 0.9918 - lr: 3.1623e-04\n",
            "Epoch 56/100\n",
            "422/422 [==============================] - 86s 204ms/step - loss: 0.0535 - accuracy: 0.9964 - val_loss: 0.0689 - val_accuracy: 0.9918 - lr: 3.1623e-04\n",
            "Epoch 57/100\n",
            "422/422 [==============================] - 86s 204ms/step - loss: 0.0544 - accuracy: 0.9958 - val_loss: 0.0622 - val_accuracy: 0.9942 - lr: 3.1623e-04\n",
            "Epoch 58/100\n",
            "422/422 [==============================] - 86s 204ms/step - loss: 0.0523 - accuracy: 0.9959 - val_loss: 0.0669 - val_accuracy: 0.9923 - lr: 3.1623e-04\n",
            "Epoch 59/100\n",
            "422/422 [==============================] - 86s 204ms/step - loss: 0.0514 - accuracy: 0.9962 - val_loss: 0.0634 - val_accuracy: 0.9943 - lr: 3.1623e-04\n",
            "Epoch 60/100\n",
            "422/422 [==============================] - 86s 205ms/step - loss: 0.0508 - accuracy: 0.9964 - val_loss: 0.0696 - val_accuracy: 0.9925 - lr: 3.1623e-04\n",
            "Epoch 61/100\n",
            "422/422 [==============================] - 86s 204ms/step - loss: 0.0455 - accuracy: 0.9976 - val_loss: 0.0574 - val_accuracy: 0.9942 - lr: 1.0000e-04\n",
            "Epoch 62/100\n",
            "422/422 [==============================] - 86s 204ms/step - loss: 0.0433 - accuracy: 0.9983 - val_loss: 0.0572 - val_accuracy: 0.9948 - lr: 1.0000e-04\n",
            "Epoch 63/100\n",
            "422/422 [==============================] - 86s 204ms/step - loss: 0.0426 - accuracy: 0.9981 - val_loss: 0.0599 - val_accuracy: 0.9937 - lr: 1.0000e-04\n",
            "Epoch 64/100\n",
            "422/422 [==============================] - 86s 205ms/step - loss: 0.0412 - accuracy: 0.9984 - val_loss: 0.0572 - val_accuracy: 0.9945 - lr: 1.0000e-04\n",
            "Epoch 65/100\n",
            "422/422 [==============================] - 86s 205ms/step - loss: 0.0399 - accuracy: 0.9986 - val_loss: 0.0504 - val_accuracy: 0.9957 - lr: 1.0000e-04\n",
            "Epoch 66/100\n",
            "422/422 [==============================] - 86s 205ms/step - loss: 0.0405 - accuracy: 0.9985 - val_loss: 0.0541 - val_accuracy: 0.9947 - lr: 1.0000e-04\n",
            "Epoch 67/100\n",
            "422/422 [==============================] - 86s 204ms/step - loss: 0.0397 - accuracy: 0.9984 - val_loss: 0.0584 - val_accuracy: 0.9938 - lr: 1.0000e-04\n",
            "Epoch 68/100\n",
            "422/422 [==============================] - 86s 204ms/step - loss: 0.0390 - accuracy: 0.9983 - val_loss: 0.0546 - val_accuracy: 0.9943 - lr: 1.0000e-04\n",
            "Epoch 69/100\n",
            "422/422 [==============================] - 86s 205ms/step - loss: 0.0379 - accuracy: 0.9985 - val_loss: 0.0520 - val_accuracy: 0.9942 - lr: 3.1623e-05\n",
            "Epoch 70/100\n",
            "422/422 [==============================] - 86s 204ms/step - loss: 0.0369 - accuracy: 0.9990 - val_loss: 0.0537 - val_accuracy: 0.9955 - lr: 3.1623e-05\n",
            "Epoch 71/100\n",
            "422/422 [==============================] - 86s 204ms/step - loss: 0.0365 - accuracy: 0.9990 - val_loss: 0.0552 - val_accuracy: 0.9945 - lr: 3.1623e-05\n",
            "Epoch 72/100\n",
            "422/422 [==============================] - 87s 205ms/step - loss: 0.0362 - accuracy: 0.9991 - val_loss: 0.0480 - val_accuracy: 0.9958 - lr: 1.0000e-05\n",
            "Epoch 73/100\n",
            "422/422 [==============================] - 86s 205ms/step - loss: 0.0358 - accuracy: 0.9991 - val_loss: 0.0478 - val_accuracy: 0.9957 - lr: 1.0000e-05\n",
            "Epoch 74/100\n",
            "422/422 [==============================] - 86s 205ms/step - loss: 0.0353 - accuracy: 0.9994 - val_loss: 0.0480 - val_accuracy: 0.9953 - lr: 1.0000e-05\n",
            "Epoch 75/100\n",
            "422/422 [==============================] - 86s 205ms/step - loss: 0.0356 - accuracy: 0.9991 - val_loss: 0.0535 - val_accuracy: 0.9962 - lr: 1.0000e-05\n",
            "Epoch 76/100\n",
            "422/422 [==============================] - 87s 206ms/step - loss: 0.0357 - accuracy: 0.9992 - val_loss: 0.0462 - val_accuracy: 0.9962 - lr: 1.0000e-05\n",
            "Epoch 77/100\n",
            "422/422 [==============================] - 87s 206ms/step - loss: 0.0351 - accuracy: 0.9992 - val_loss: 0.0529 - val_accuracy: 0.9942 - lr: 1.0000e-05\n",
            "Epoch 78/100\n",
            "422/422 [==============================] - 87s 207ms/step - loss: 0.0350 - accuracy: 0.9992 - val_loss: 0.0507 - val_accuracy: 0.9955 - lr: 1.0000e-05\n",
            "Epoch 79/100\n",
            "422/422 [==============================] - 87s 207ms/step - loss: 0.0349 - accuracy: 0.9992 - val_loss: 0.0516 - val_accuracy: 0.9948 - lr: 1.0000e-05\n",
            "Epoch 80/100\n",
            "422/422 [==============================] - 87s 206ms/step - loss: 0.0348 - accuracy: 0.9992 - val_loss: 0.0515 - val_accuracy: 0.9948 - lr: 3.1623e-06\n",
            "Epoch 81/100\n",
            "422/422 [==============================] - 87s 205ms/step - loss: 0.0350 - accuracy: 0.9992 - val_loss: 0.0554 - val_accuracy: 0.9945 - lr: 3.1623e-06\n",
            "Epoch 82/100\n",
            "422/422 [==============================] - 87s 205ms/step - loss: 0.0351 - accuracy: 0.9991 - val_loss: 0.0466 - val_accuracy: 0.9965 - lr: 3.1623e-06\n",
            "Epoch 83/100\n",
            "422/422 [==============================] - 87s 205ms/step - loss: 0.0351 - accuracy: 0.9991 - val_loss: 0.0474 - val_accuracy: 0.9968 - lr: 1.0000e-06\n",
            "Epoch 84/100\n",
            "422/422 [==============================] - 86s 205ms/step - loss: 0.0347 - accuracy: 0.9993 - val_loss: 0.0536 - val_accuracy: 0.9943 - lr: 1.0000e-06\n",
            "Epoch 85/100\n",
            "422/422 [==============================] - 87s 205ms/step - loss: 0.0349 - accuracy: 0.9992 - val_loss: 0.0479 - val_accuracy: 0.9958 - lr: 1.0000e-06\n",
            "Epoch 86/100\n",
            "422/422 [==============================] - ETA: 0s - loss: 0.0348 - accuracy: 0.9992Restoring model weights from the end of the best epoch.\n",
            "422/422 [==============================] - 87s 205ms/step - loss: 0.0348 - accuracy: 0.9992 - val_loss: 0.0552 - val_accuracy: 0.9945 - lr: 5.0000e-07\n",
            "Epoch 00086: early stopping\n"
          ],
          "name": "stdout"
        }
      ]
    },
    {
      "cell_type": "markdown",
      "metadata": {
        "id": "HoJ7wLvpEv-r",
        "colab_type": "text"
      },
      "source": [
        "Plot the accuracy and loss graph over the epochs for training and validation. "
      ]
    },
    {
      "cell_type": "code",
      "metadata": {
        "id": "6B7aNj4QgdbJ",
        "colab_type": "code",
        "outputId": "f0399ddf-f126-46cb-f4bf-63e83ce36f75",
        "colab": {
          "base_uri": "https://localhost:8080/",
          "height": 573
        }
      },
      "source": [
        "# summarize history for accuracy\n",
        "plt.plot(history.history['accuracy'])\n",
        "plt.plot(history.history['val_accuracy'])\n",
        "plt.title('model accuracy of vgg16 on ' + dataset_name)\n",
        "plt.ylabel('accuracy')\n",
        "plt.xlabel('epoch')\n",
        "plt.legend(['train', 'test'], loc='upper left')\n",
        "plt.show()\n",
        "# summarize history for loss\n",
        "plt.plot(history.history['loss'])\n",
        "plt.plot(history.history['val_loss'])\n",
        "plt.title('model loss of vgg16 on ' + dataset_name)\n",
        "plt.ylabel('loss')\n",
        "plt.xlabel('epoch')\n",
        "plt.legend(['train', 'test'], loc='upper left')\n",
        "plt.show()"
      ],
      "execution_count": 0,
      "outputs": [
        {
          "output_type": "display_data",
          "data": {
            "image/png": "[encoded data removed]",
            "text/plain": [
              "<Figure size 432x288 with 1 Axes>"
            ]
          },
          "metadata": {
            "tags": [],
            "needs_background": "light"
          }
        },
        {
          "output_type": "display_data",
          "data": {
            "image/png": "[encoded data removed]",
            "text/plain": [
              "<Figure size 432x288 with 1 Axes>"
            ]
          },
          "metadata": {
            "tags": [],
            "needs_background": "light"
          }
        }
      ]
    },
    {
      "cell_type": "markdown",
      "metadata": {
        "id": "YD7iTnh9E3lw",
        "colab_type": "text"
      },
      "source": [
        "Evaluate the model performance on the test set."
      ]
    },
    {
      "cell_type": "code",
      "metadata": {
        "id": "_cKVpkKCc9ri",
        "colab_type": "code",
        "outputId": "57db031a-4a17-4a14-c13d-b435b81ad56a",
        "colab": {
          "base_uri": "https://localhost:8080/",
          "height": 34
        }
      },
      "source": [
        "eval = vgg16.evaluate(test_images, test_labels, batch_size=batch_size)"
      ],
      "execution_count": 0,
      "outputs": [
        {
          "output_type": "stream",
          "text": [
            "79/79 [==============================] - 5s 64ms/step - loss: 0.0516 - accuracy: 0.9956\n"
          ],
          "name": "stdout"
        }
      ]
    },
    {
      "cell_type": "markdown",
      "metadata": {
        "id": "RGlc6RJtE-OH",
        "colab_type": "text"
      },
      "source": [
        "Create predictions for the test set"
      ]
    },
    {
      "cell_type": "code",
      "metadata": {
        "id": "qxXzJLV7g8va",
        "colab_type": "code",
        "colab": {}
      },
      "source": [
        "predictions = vgg16.predict(test_images, batch_size=batch_size)"
      ],
      "execution_count": 0,
      "outputs": []
    },
    {
      "cell_type": "markdown",
      "metadata": {
        "id": "VWsgdioOFJUc",
        "colab_type": "text"
      },
      "source": [
        "Visualize the some examples of the success and fail cases for the model on the test set."
      ]
    },
    {
      "cell_type": "code",
      "metadata": {
        "id": "lFOoK6RNlwKw",
        "colab_type": "code",
        "outputId": "09496ed0-51d4-4305-d5e5-ab5a42aa50ab",
        "colab": {
          "base_uri": "https://localhost:8080/",
          "height": 571
        }
      },
      "source": [
        "visualize(predictions, test_labels, test_img, dataset_name)"
      ],
      "execution_count": 0,
      "outputs": [
        {
          "output_type": "display_data",
          "data": {
            "image/png": "[encoded data removed]",
            "text/plain": [
              "<Figure size 432x288 with 4 Axes>"
            ]
          },
          "metadata": {
            "tags": [],
            "needs_background": "light"
          }
        },
        {
          "output_type": "display_data",
          "data": {
            "image/png": "[encoded data removed]",
            "text/plain": [
              "<Figure size 432x288 with 4 Axes>"
            ]
          },
          "metadata": {
            "tags": [],
            "needs_background": "light"
          }
        }
      ]
    }
  ]
}